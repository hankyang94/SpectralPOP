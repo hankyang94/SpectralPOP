{
 "cells": [
  {
   "cell_type": "markdown",
   "metadata": {},
   "source": [
    "The following codes is to set up random problem:"
   ]
  },
  {
   "cell_type": "code",
   "execution_count": 2,
   "metadata": {},
   "outputs": [
    {
     "name": "stdout",
     "output_type": "stream",
     "text": [
      "***Problem setting***\n",
      "Number of variable: n=5\n",
      "====================\n",
      "Number of equality constraints: l=1\n",
      "====================\n",
      "Relaxed order: k=1\n"
     ]
    }
   ],
   "source": [
    "using DynamicPolynomials\n",
    "\n",
    "println(\"***Problem setting***\")\n",
    "\n",
    "n=5\n",
    "\n",
    "println(\"Number of variable: n=\",n)\n",
    "println(\"====================\")\n",
    "\n",
    "@polyvar x[1:n] #variables\n",
    "\n",
    "\n",
    "v=reverse(monomials(x,0:2))\n",
    "c=2*rand(Float64,length(v)).-1\n",
    "f= c'*v #objective function\n",
    "\n",
    "\n",
    "\n",
    "R=1.0\n",
    "h=[R-sum(x.^2)] #sphere constraints\n",
    "\n",
    "l=length(h)\n",
    "\n",
    "println(\"Number of equality constraints: l=\",l)\n",
    "println(\"====================\")\n",
    "\n",
    "k=1 # relaxed order\n",
    "\n",
    "println(\"Relaxed order: k=\",k)"
   ]
  },
  {
   "cell_type": "markdown",
   "metadata": {},
   "source": [
    "We now use spectral minimization and Proximal bundle method to solve first order relaxation of above POP."
   ]
  },
  {
   "cell_type": "code",
   "execution_count": 5,
   "metadata": {},
   "outputs": [
    {
     "name": "stdout",
     "output_type": "stream",
     "text": [
      "**Convert moment relaxation to standard SDP:\n",
      "  Size of psd matrix: sk=6\n",
      "  Number of equality trace constraints: m=2\n",
      "  0.066361 seconds (51.47 k allocations: 2.605 MiB)\n",
      "**PB solver:\n"
     ]
    },
    {
     "name": "stderr",
     "output_type": "stream",
     "text": [
      "WARNING: replacing module SpectralPOP.\n"
     ]
    },
    {
     "name": "stdout",
     "output_type": "stream",
     "text": [
      "Iter 1: fx0 2.602678e+00, fx1 0.000000e+00, fy 2.602678e+00, v -7.943168e-03, u 1.000000e+03, i 0\n",
      "Iter 2: fx0 2.597765e+00, fx1 2.597765e+00, fy 2.597765e+00, v -6.833231e-03, u 1.000000e+03, i 1\n",
      "Iter 3: fx0 2.592851e+00, fx1 2.592851e+00, fy 2.592851e+00, v -1.029262e-02, u 5.618823e+02, i 1\n",
      "Iter 4: fx0 2.584107e+00, fx1 2.584107e+00, fy 2.584107e+00, v -3.041421e-02, u 1.691141e+02, i 1\n",
      "Iter 5: fx0 2.555065e+00, fx1 2.555065e+00, fy 2.555065e+00, v -2.916612e-01, u 1.691141e+01, i 1\n",
      "Iter 6: fx0 2.265448e+00, fx1 2.265448e+00, fy 2.265448e+00, v -2.866980e+00, u 1.691141e+00, i 1\n",
      "Iter 7: fx0 2.265448e+00, fx1 2.265448e+00, fy 2.607036e+00, v -1.205792e+00, u 1.691141e+00, i -1\n",
      "Iter 8: fx0 1.335393e+00, fx1 1.335393e+00, fy 1.335393e+00, v -4.740877e-02, u 1.691141e+00, i 1\n",
      "Iter 9: fx0 1.335393e+00, fx1 1.335393e+00, fy 1.369406e+00, v -2.492607e-02, u 1.691141e+00, i -1\n",
      "Iter 10: fx0 1.330414e+00, fx1 1.330414e+00, fy 1.330414e+00, v -7.555694e-03, u 1.691141e+00, i 1\n",
      "Iter 11: fx0 1.327802e+00, fx1 1.327802e+00, fy 1.327802e+00, v -1.348843e-03, u 1.691141e+00, i 2\n",
      "Iter 12: fx0 1.327748e+00, fx1 1.327748e+00, fy 1.327748e+00, v -2.794969e-03, u 1.691141e+00, i 3\n",
      "Iter 13: fx0 1.327594e+00, fx1 1.327594e+00, fy 1.327594e+00, v -2.083995e-03, u 1.691141e+00, i 4\n",
      "Iter 14: fx0 1.327594e+00, fx1 1.327594e+00, fy 1.327637e+00, v -1.645717e-03, u 1.691141e+00, i -1\n",
      "Iter 15: fx0 1.327594e+00, fx1 1.327594e+00, fy 1.327784e+00, v -6.706794e-04, u 1.691141e+00, i -2\n",
      "Iter 16: fx0 1.327594e+00, fx1 1.327594e+00, fy 1.327801e+00, v -5.447692e-04, u 1.691141e+00, i -3\n",
      "Iter 17: fx0 1.327594e+00, fx1 1.327594e+00, fy 1.327800e+00, v -3.320337e-04, u 1.691141e+00, i -4\n",
      "Iter 18: fx0 1.327528e+00, fx1 1.327528e+00, fy 1.327528e+00, v -2.326601e-04, u 1.691141e+00, i 1\n",
      "Iter 19: fx0 1.327528e+00, fx1 1.327528e+00, fy 1.327546e+00, v -2.957404e-04, u 1.691141e+00, i -1\n",
      "Iter 20: fx0 1.327517e+00, fx1 1.327517e+00, fy 1.327517e+00, v -1.871639e-04, u 1.691141e+00, i 1\n",
      "Iter 21: fx0 1.327504e+00, fx1 1.327504e+00, fy 1.327504e+00, v -1.073476e-04, u 1.691141e+00, i 2\n",
      "Iter 22: fx0 1.327504e+00, fx1 1.327504e+00, fy 1.327508e+00, v -1.396485e-04, u 1.691141e+00, i -1\n",
      "Iter 23: fx0 1.327503e+00, fx1 1.327503e+00, fy 1.327503e+00, v -1.497298e-04, u 1.691141e+00, i 1\n",
      "Iter 24: fx0 1.327503e+00, fx1 1.327503e+00, fy 1.327503e+00, v -1.153896e-04, u 1.691141e+00, i -1\n",
      "Iter 25: fx0 1.327502e+00, fx1 1.327502e+00, fy 1.327502e+00, v -1.227103e-04, u 1.691141e+00, i 1\n",
      "Iter 26: fx0 1.327502e+00, fx1 1.327502e+00, fy 1.327502e+00, v -1.070709e-04, u 1.691141e+00, i 2\n",
      "Iter 27: fx0 1.327502e+00, fx1 1.327502e+00, fy 1.327502e+00, v -1.037529e-04, u 1.691141e+00, i -1\n",
      "Iter 28: fx0 1.327502e+00, fx1 1.327502e+00, fy 1.327502e+00, v -9.729800e-05, u 1.691141e+00, i -2\n",
      "Iter 29: fx0 1.327502e+00, fx1 1.327502e+00, fy 1.327502e+00, v -9.057084e-05, u 1.691141e+00, i -3\n",
      "Iter 30: fx0 1.327502e+00, fx1 1.327502e+00, fy 1.327502e+00, v -8.606692e-05, u 1.691141e+00, i -4\n",
      "Iter 31: fx0 1.327502e+00, fx1 1.327502e+00, fy 1.327503e+00, v -8.392371e-05, u 1.691141e+00, i -5\n",
      "Iter 32: fx0 1.327502e+00, fx1 1.327502e+00, fy 1.327502e+00, v -7.915294e-05, u 1.691141e+00, i -6\n",
      "Iter 33: fx0 1.327502e+00, fx1 1.327502e+00, fy 1.327502e+00, v -8.644741e-04, u 1.691141e+00, i -7\n",
      "Iter 34: fx0 1.327502e+00, fx1 1.327502e+00, fy 1.327625e+00, v -2.086570e-04, u 1.691141e+00, i -8\n",
      "Iter 35: fx0 1.327502e+00, fx1 1.327502e+00, fy 1.327546e+00, v -2.151494e-04, u 1.691141e+00, i -9\n",
      "Iter 36: fx0 1.327502e+00, fx1 1.327502e+00, fy 1.327520e+00, v -1.896709e-04, u 1.691141e+00, i -10\n",
      "Iter 37: fx0 1.327502e+00, fx1 1.327502e+00, fy 1.327509e+00, v -1.809800e-04, u 1.691141e+00, i -11\n",
      "Iter 38: fx0 1.327502e+00, fx1 1.327502e+00, fy 1.327504e+00, v -1.713072e-04, u 1.691141e+00, i -12\n",
      "Iter 39: fx0 1.327502e+00, fx1 1.327502e+00, fy 1.327503e+00, v -1.647553e-04, u 1.691141e+00, i -13\n",
      "Iter 40: fx0 1.327502e+00, fx1 1.327502e+00, fy 1.327502e+00, v -1.582630e-04, u 1.691141e+00, i -14\n",
      "Iter 41: fx0 1.327502e+00, fx1 1.327502e+00, fy 1.327503e+00, v -1.519488e-04, u 1.691141e+00, i -15\n",
      "Iter 42: fx0 1.327502e+00, fx1 1.327502e+00, fy 1.327503e+00, v -1.472808e-04, u 1.691141e+00, i -16\n",
      "Iter 43: fx0 1.327502e+00, fx1 1.327502e+00, fy 1.327503e+00, v -1.425144e-04, u 1.691141e+00, i -17\n",
      "Iter 44: fx0 1.327502e+00, fx1 1.327502e+00, fy 1.327504e+00, v -1.377992e-04, u 1.691141e+00, i -18\n",
      "Iter 45: fx0 1.327502e+00, fx1 1.327502e+00, fy 1.327504e+00, v -1.335695e-04, u 1.691141e+00, i -19\n",
      "Iter 46: fx0 1.327502e+00, fx1 1.327502e+00, fy 1.327504e+00, v -1.298533e-04, u 1.691141e+00, i -20\n",
      "Iter 47: fx0 1.327502e+00, fx1 1.327502e+00, fy 1.327505e+00, v -1.262879e-04, u 1.691141e+00, i -21\n",
      "Iter 48: fx0 1.327502e+00, fx1 1.327502e+00, fy 1.327505e+00, v -1.227984e-04, u 1.691141e+00, i -22\n",
      "Iter 49: fx0 1.327502e+00, fx1 1.327502e+00, fy 1.327505e+00, v -1.194881e-04, u 1.691141e+00, i -23\n",
      "Iter 50: fx0 1.327502e+00, fx1 1.327502e+00, fy 1.327505e+00, v -1.165943e-04, u 1.691141e+00, i -24\n",
      "Iter 51: fx0 1.327502e+00, fx1 1.327502e+00, fy 1.327505e+00, v -1.159145e-04, u 1.691141e+00, i -25\n",
      "Iter 52: fx0 1.327502e+00, fx1 1.327502e+00, fy 1.327503e+00, v -1.131452e-04, u 1.691141e+00, i -26\n",
      "Iter 53: fx0 1.327502e+00, fx1 1.327502e+00, fy 1.327503e+00, v -9.750570e-05, u 1.691141e+00, i -27\n",
      "Iter 54: fx0 1.327502e+00, fx1 1.327502e+00, fy 1.327503e+00, v -2.067797e-05, u 1.691141e+00, i -28\n",
      "TERMINATION: Optimal: v = -2.0677967344839843e-5\n",
      "  0.400632 seconds (235.07 k allocations: 13.600 MiB, 8.65% gc time)\n",
      "------------------------------------\n",
      "**Numerical result:\n",
      "====================================\n",
      "opt_val=-1.3275023601139362\n",
      "====================================\n",
      "Dimension of the null space of Gram matrix = 1\n",
      "------------------------------------\n",
      "atom 1 = [-0.1805917350788192, -0.6216825259573884, -0.22351653006474337, 0.08308769195213014, -0.7234639545865332]\n",
      "  check gap of lower bound  = 0.031334023960484375\n",
      "  check equality constraint 1 = 0.0006341647883618684\n",
      "####################################\n",
      "Optimal solution: opt_sol = [-0.1805917350788192, -0.6216825259573884, -0.22351653006474337, 0.08308769195213014, -0.7234639545865332]\n",
      "####################################\n",
      "  0.001106 seconds (1.53 k allocations: 51.313 KiB)\n",
      "  0.468879 seconds (289.10 k allocations: 16.279 MiB, 7.39% gc time)\n"
     ]
    },
    {
     "data": {
      "text/plain": [
       "(-1.3275023601139362, [-0.1805917350788192, -0.6216825259573884, -0.22351653006474337, 0.08308769195213014, -0.7234639545865332])"
      ]
     },
     "execution_count": 5,
     "metadata": {},
     "output_type": "execute_result"
    }
   ],
   "source": [
    "include(\"../src/SpectralPOP.jl\")\n",
    "using .SpectralPOP\n",
    "\n",
    "opt_val,opt_sol = SpectralPOP.CTP_POP(x,f,h,k,R;method=\"PB\",EigAlg=\"Arpack\",tol=1e-5) # Proximal Bundle method"
   ]
  },
  {
   "cell_type": "markdown",
   "metadata": {},
   "source": [
    "When using ```CTP_POP```, we have two options as follows:\n",
    "\n",
    "1) ```showEvaluation=true``` to display the following information for LMBM and SketchyCGAL:\n",
    "\n",
    "```linear_oper```:  the number of evaluations of the linear operator\n",
    "\n",
    "```adjoint_oper```:  the number of evaluations of the adjoint operator\n",
    "\n",
    "```max_size```: the largest size of symmetric matrices of which eigenvalues and eigenvec-tors are computed\n",
    "\n",
    "```num_eig```: the number of symmetric matrices of which eigenvalues and eigenvectorsare computed\n",
    "\n",
    "2) ```showNormGrad=true``` to display the norms of all subgradients when using LMBM"
   ]
  },
  {
   "cell_type": "code",
   "execution_count": 12,
   "metadata": {
    "scrolled": true
   },
   "outputs": [
    {
     "name": "stdout",
     "output_type": "stream",
     "text": [
      "**Convert moment relaxation to standard SDP:\n",
      "  Size of psd matrix: sk=6\n",
      "  Number of equality trace constraints: m=2\n",
      "  0.041937 seconds (51.47 k allocations: 2.603 MiB)\n",
      "**SketchyCGAL solver:\n",
      "- SketchyCGAL SDP Solver - Beta.V.0.0\n",
      "--------------------------\n",
      " iter=1 \n",
      " stopObj=1.7209302069034607 \n",
      " stopFeas=1.0 \n",
      " primalObj=-0.11087890893048152 \n",
      "--------------------------\n",
      " iter=2 \n",
      " stopObj=11.968709803439367 \n",
      " stopFeas=1.4276806981325088 \n",
      " primalObj=-1.108806074154595 \n",
      "--------------------------\n",
      " iter=4 \n",
      " stopObj=4.0504545773111085 \n",
      " stopFeas=0.17694916208377875 \n",
      " primalObj=-1.3374351984646053 \n",
      "--------------------------\n",
      " iter=8 \n",
      " stopObj=1.5206565626330986 \n",
      " stopFeas=0.09140563658051326 \n",
      " primalObj=-1.0826664099397842 \n"
     ]
    },
    {
     "name": "stderr",
     "output_type": "stream",
     "text": [
      "WARNING: replacing module SpectralPOP.\n"
     ]
    },
    {
     "name": "stdout",
     "output_type": "stream",
     "text": [
      "--------------------------\n",
      " iter=16 \n",
      " stopObj=1.1427861228445297 \n",
      " stopFeas=0.14858197367230253 \n",
      " primalObj=-1.0173953578349089 \n",
      "--------------------------\n",
      " iter=32 \n",
      " stopObj=0.5476786405427281 \n",
      " stopFeas=0.05354688426361962 \n",
      " primalObj=-1.1100995045983253 \n",
      "--------------------------\n",
      " iter=64 \n",
      " stopObj=0.24471515307031422 \n",
      " stopFeas=0.022951022713300163 \n",
      " primalObj=-1.160490278656489 \n",
      "--------------------------\n",
      " iter=128 \n",
      " stopObj=0.2886883921478054 \n",
      " stopFeas=0.011288032266809987 \n",
      " primalObj=-1.179722456952459 \n",
      "--------------------------\n",
      " iter=256 \n",
      " stopObj=0.09056990944384191 \n",
      " stopFeas=0.0006288251208207053 \n",
      " primalObj=-1.2278373616999398 \n",
      "--------------------------\n",
      " iter=512 \n",
      " stopObj=0.09031936100877869 \n",
      " stopFeas=0.0032862083496130075 \n",
      " primalObj=-1.2487948686169477 \n",
      "--------------------------\n",
      " iter=1024 \n",
      " stopObj=0.08107011850108536 \n",
      " stopFeas=0.0005804360111813575 \n",
      " primalObj=-1.253254121144067 \n",
      "* status = stopping criteria met\n",
      "  0.251374 seconds (545.30 k allocations: 42.294 MiB, 11.62% gc time)\n",
      "------------------------------------\n",
      "**Numerical result:\n",
      "====================================\n",
      "opt_val=-1.2592035599310893\n",
      "====================================\n",
      "Dimension of the null space of Gram matrix = 1\n",
      "------------------------------------\n",
      "atom 1 = [-3.3819970798975683, -13.520332805952979, 1.7780227184195856, 1.3868076629287576, -5.603648442927597]\n",
      "  check gap of lower bound  = 10526.552841869538\n",
      "  check equality constraint 1 = 229.722779585263\n",
      "  0.000653 seconds (1.06 k allocations: 41.281 KiB)\n",
      "linear_oper=1396\n",
      "adjoint_oper=8351\n",
      "max_size=6\n",
      "num_eig=1398\n",
      "  0.294520 seconds (599.09 k allocations: 44.964 MiB, 9.92% gc time)\n"
     ]
    },
    {
     "data": {
      "text/plain": [
       "(-1.2592035599310893, Array{Float64,1}[])"
      ]
     },
     "execution_count": 12,
     "metadata": {},
     "output_type": "execute_result"
    }
   ],
   "source": [
    "include(\"../src/SpectralPOP.jl\")\n",
    "using .SpectralPOP\n",
    "\n",
    "opt_val,opt_sol = SpectralPOP.CTP_POP(x,f,h,k,R;method=\"SketchyCGAL\",EigAlg=\"Arpack\",tol=1e-5,showEvaluation=true)"
   ]
  },
  {
   "cell_type": "code",
   "execution_count": 21,
   "metadata": {
    "scrolled": true
   },
   "outputs": [
    {
     "name": "stdout",
     "output_type": "stream",
     "text": [
      "**Convert moment relaxation to standard SDP:\n",
      "  Size of psd matrix: sk=6\n",
      "  Number of equality trace constraints: m=2\n",
      "  0.045358 seconds (51.47 k allocations: 2.604 MiB, 37.51% gc time)\n",
      "**LMBM solver:\n",
      "---------------\n"
     ]
    },
    {
     "name": "stderr",
     "output_type": "stream",
     "text": [
      "WARNING: replacing module SpectralPOP.\n",
      "WARNING: using SpectralPOP.CTP_POP in module Main conflicts with an existing identifier.\n"
     ]
    },
    {
     "name": "stdout",
     "output_type": "stream",
     "text": [
      "| Parameters: |\n",
      "---------------\n",
      "n:       2\n",
      "maxtime: 300000.000000\n",
      "na:      2\n",
      "mcu:     5\n",
      "mc:      7\n",
      "rpar: \n",
      "ipar: \n",
      "-----------\n",
      "| Output: |\n",
      "-----------\n",
      "Termination:     1\n",
      "N. iter.:        11\n",
      "N. func. eval.:  11\n",
      "Final value:     1.080297\n",
      "Execution time:  0.041557\n",
      "  0.135092 seconds (254.64 k allocations: 14.434 MiB)\n",
      "------------------------------------\n",
      "**Numerical result:\n",
      "====================================\n",
      "opt_val=-1.0802969320948324\n",
      "====================================\n",
      "Dimension of the null space of Gram matrix = 1\n",
      "------------------------------------\n",
      "atom 1 = [0.0017839984154783448, 0.47128236446636784, 0.0786225405528111, -0.8043884058612983, -0.35266052471855003]\n",
      "  check gap of lower bound  = 0.00570629518339514\n",
      "  check equality constraint 1 = 0.0002980932308208617\n",
      "####################################\n",
      "Optimal solution: opt_sol = [0.0017839984154783448, 0.47128236446636784, 0.0786225405528111, -0.8043884058612983, -0.35266052471855003]\n",
      "####################################\n",
      "  0.000479 seconds (1.54 k allocations: 51.578 KiB)\n",
      "norm_grad=[2.200162975296455, 2.100023836426133, 2.09733167363885, 2.1435226908705776, 2.046245932351512, 0.8464770409788273, 0.5955150807332161, 0.4857797022108123, 0.17928604901603443, 0.016409887159672513, 0.0003333280452931252]\n",
      "  0.181451 seconds (309.54 k allocations: 17.130 MiB, 9.38% gc time)\n"
     ]
    },
    {
     "data": {
      "text/plain": [
       "(-1.0802969320948324, [0.0017839984154783448, 0.47128236446636784, 0.0786225405528111, -0.8043884058612983, -0.35266052471855003])"
      ]
     },
     "execution_count": 21,
     "metadata": {},
     "output_type": "execute_result"
    }
   ],
   "source": [
    "include(\"../src/SpectralPOP.jl\")\n",
    "using .SpectralPOP\n",
    "\n",
    "opt_val,opt_sol = SpectralPOP.CTP_POP(x,f,h,k,R;method=\"LMBM\",EigAlg=\"Arpack\",tol=1e-5,showNormGrad=true) #Limited memory bundle method"
   ]
  },
  {
   "cell_type": "code",
   "execution_count": 20,
   "metadata": {},
   "outputs": [
    {
     "data": {
      "text/plain": [
       "\"/home/hoanganh\""
      ]
     },
     "execution_count": 20,
     "metadata": {},
     "output_type": "execute_result"
    }
   ],
   "source": [
    "@__DIR__"
   ]
  },
  {
   "cell_type": "code",
   "execution_count": 20,
   "metadata": {},
   "outputs": [
    {
     "name": "stdout",
     "output_type": "stream",
     "text": [
      "OPTIMAL\n",
      "opt_val=-1.3275023400224621\n",
      "Atomic measure on the variables x[1], x[2], x[3], x[4], x[5] with 1 atoms:\n",
      " at [-0.18067814122291695, -0.622013816140701, -0.2234773464092626, 0.08311361561671128, -0.7236050142093169] with weight 1.0000000007325205\n",
      "  0.013971 seconds (10.22 k allocations: 1.181 MiB)\n"
     ]
    },
    {
     "name": "stderr",
     "output_type": "stream",
     "text": [
      "WARNING: replacing module SpectralPOP.\n"
     ]
    },
    {
     "data": {
      "text/plain": [
       "(-1.3275023400224621, [-0.18067814122291695, -0.622013816140701, -0.2234773464092626, 0.08311361561671128, -0.7236050142093169])"
      ]
     },
     "execution_count": 20,
     "metadata": {},
     "output_type": "execute_result"
    }
   ],
   "source": [
    "include(\"../src/SpectralPOP.jl\")\n",
    "using .SpectralPOP\n",
    "\n",
    "g=Vector{Polynomial{true,Float64}}([])\n",
    "\n",
    "opt_val,opt_sol = SpectralPOP.SumofSquares_POP_WithExtraction(x,f,g,h,k) # SumOfSquares.jl + Mosek"
   ]
  },
  {
   "cell_type": "code",
   "execution_count": 21,
   "metadata": {},
   "outputs": [
    {
     "name": "stdout",
     "output_type": "stream",
     "text": [
      "OPTIMAL\n",
      "opt_val=-1.3275023400216477\n",
      "  0.011907 seconds (9.19 k allocations: 881.969 KiB)\n"
     ]
    },
    {
     "name": "stderr",
     "output_type": "stream",
     "text": [
      "WARNING: replacing module SpectralPOP.\n"
     ]
    },
    {
     "data": {
      "text/plain": [
       "-1.3275023400216477"
      ]
     },
     "execution_count": 21,
     "metadata": {},
     "output_type": "execute_result"
    }
   ],
   "source": [
    "include(\"../src/SpectralPOP.jl\")\n",
    "using .SpectralPOP\n",
    "\n",
    "g=Vector{Polynomial{true,Float64}}([])\n",
    "\n",
    "opt_val = SpectralPOP.SumofSquares_POP(x,f,g,h,k) #No extraction, but faster than the one which has extraction"
   ]
  },
  {
   "cell_type": "code",
   "execution_count": null,
   "metadata": {},
   "outputs": [],
   "source": []
  }
 ],
 "metadata": {
  "kernelspec": {
   "display_name": "Julia 1.3.0",
   "language": "julia",
   "name": "julia-1.3"
  },
  "language_info": {
   "file_extension": ".jl",
   "mimetype": "application/julia",
   "name": "julia",
   "version": "1.3.0"
  }
 },
 "nbformat": 4,
 "nbformat_minor": 2
}
