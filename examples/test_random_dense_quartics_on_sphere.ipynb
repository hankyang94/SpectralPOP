{
 "cells": [
  {
   "cell_type": "code",
   "execution_count": 2,
   "metadata": {},
   "outputs": [
    {
     "name": "stdout",
     "output_type": "stream",
     "text": [
      "***Problem setting***\n",
      "Number of variable: n=5\n",
      "====================\n",
      "Number of equality constraints: l_h=1\n",
      "====================\n",
      "Relaxed order: k=2\n"
     ]
    }
   ],
   "source": [
    "using DynamicPolynomials\n",
    "\n",
    "println(\"***Problem setting***\")\n",
    "\n",
    "n=5\n",
    "\n",
    "println(\"Number of variable: n=\",n)\n",
    "println(\"====================\")\n",
    "\n",
    "@polyvar x[1:n]# variables\n",
    "\n",
    "# random quadratic objective function f\n",
    "v=reverse(monomials(x,0:4))\n",
    "c=2*rand(Float64,length(v)).-1\n",
    "f=c'*v\n",
    "\n",
    "\n",
    "# unit sphere constraint\n",
    "R=1.0\n",
    "h=[R-sum(x.^2)] #type of coefficients of each polynomial must be float\n",
    "\n",
    "l_h=length(h)\n",
    "\n",
    "println(\"Number of equality constraints: l_h=\",l_h)\n",
    "println(\"====================\")\n",
    "\n",
    "k=Int64(2)\n",
    "\n",
    "println(\"Relaxed order: k=\",k)"
   ]
  },
  {
   "cell_type": "code",
   "execution_count": 3,
   "metadata": {
    "scrolled": true
   },
   "outputs": [
    {
     "name": "stdout",
     "output_type": "stream",
     "text": [
      "**Convert moment relaxation to standard SDP:\n",
      "  Size of psd matrix: sk=21\n",
      "  Number of equality trace constraints: m=127\n",
      "  1.470148 seconds (2.51 M allocations: 119.448 MiB, 4.21% gc time)\n",
      "**LMBM solver:\n",
      "---------------\n",
      "| Parameters: |\n",
      "---------------\n",
      "n:       127\n",
      "maxtime: 300000.000000\n",
      "na:      2\n",
      "mcu:     5\n",
      "mc:      7\n",
      "rpar: \n",
      "ipar: \n",
      "-----------\n",
      "| Output: |\n",
      "-----------\n",
      "Termination:     1\n",
      "N. iter.:        79\n",
      "N. func. eval.:  112\n",
      "Final value:     2.665058\n",
      "Execution time:  1.522205\n",
      "  1.990134 seconds (2.08 M allocations: 112.461 MiB, 1.34% gc time)\n",
      "------------------------------------\n",
      "**Numerical result:\n",
      "====================================\n",
      "opt_val=-2.665057812177557\n",
      "====================================\n",
      "Dimension of the null space of Gram matrix = 1\n",
      "------------------------------------\n",
      "atom 1 = [0.5816300361335006, -0.4185276052576941, -0.04031640783806247, 0.16196355883503413, 0.6773003832540001]\n",
      "  check gap of lower bound  = 0.02281538966369244\n",
      "  check equality constraint 1 = 5.227158288745315e-5\n",
      "####################################\n",
      "Optimal solution: opt_sol = [0.5816300361335006, -0.4185276052576941, -0.04031640783806247, 0.16196355883503413, 0.6773003832540001]\n",
      "####################################\n",
      "  0.580883 seconds (853.22 k allocations: 41.929 MiB, 4.11% gc time)\n",
      "  4.194959 seconds (5.59 M allocations: 281.081 MiB, 3.34% gc time)\n"
     ]
    },
    {
     "data": {
      "text/plain": [
       "(-2.665057812177557, [0.5816300361335006, -0.4185276052576941, -0.04031640783806247, 0.16196355883503413, 0.6773003832540001])"
      ]
     },
     "execution_count": 3,
     "metadata": {},
     "output_type": "execute_result"
    }
   ],
   "source": [
    "using SpectralPOP\n",
    "\n",
    "\n",
    "opt_val,opt_sol = SpectralPOP.CTP_POP(x,f,h,k,R;method=\"LMBM\",EigAlg=\"Arpack\",tol=1e-5)"
   ]
  },
  {
   "cell_type": "code",
   "execution_count": 4,
   "metadata": {
    "scrolled": true
   },
   "outputs": [
    {
     "name": "stdout",
     "output_type": "stream",
     "text": [
      "**Convert moment relaxation to standard SDP:\n",
      "  Size of psd matrix: sk=21\n",
      "  Number of equality trace constraints: m=127\n",
      "  0.001182 seconds (7.22 k allocations: 837.703 KiB)\n",
      "**SketchyCGAL solver:\n",
      "- SketchyCGAL SDP Solver - Beta.V.0.0\n",
      "--------------------------\n",
      " iter=1 \n",
      " stopObj=6.883055813641065 \n",
      " stopFeas=1.0 \n",
      " primalObj=-2.3828235999444547 \n",
      "--------------------------\n",
      " iter=2 \n",
      " stopObj=43.752290068598924 \n",
      " stopFeas=4.505848397249501 \n",
      " primalObj=-1.8909914943795254 \n",
      "--------------------------\n",
      " iter=4 \n",
      " stopObj=10.383970324744299 \n",
      " stopFeas=1.5392653802974992 \n",
      " primalObj=-1.9590260009271394 \n",
      "--------------------------\n",
      " iter=8 \n",
      " stopObj=6.403896818891997 \n",
      " stopFeas=0.9258006281211724 \n",
      " primalObj=-1.7282804892975476 \n",
      "--------------------------\n",
      " iter=16 \n",
      " stopObj=3.177720606101868 \n",
      " stopFeas=0.33865714722330226 \n",
      " primalObj=-1.8351186028323232 \n",
      "--------------------------\n",
      " iter=32 \n",
      " stopObj=1.6414038852390962 \n",
      " stopFeas=0.16128690733515091 \n",
      " primalObj=-1.8148978433566207 \n",
      "--------------------------\n",
      " iter=64 \n",
      " stopObj=1.3504813855124178 \n",
      " stopFeas=0.06640158737926012 \n",
      " primalObj=-2.064211456839169 \n",
      "--------------------------\n",
      " iter=128 \n",
      " stopObj=0.8039497825925981 \n",
      " stopFeas=0.04023739661774088 \n",
      " primalObj=-2.3436775154421947 \n",
      "--------------------------\n",
      " iter=256 \n",
      " stopObj=0.13246580962014187 \n",
      " stopFeas=0.005822298970072499 \n",
      " primalObj=-2.5404843106736514 \n",
      "--------------------------\n",
      " iter=512 \n",
      " stopObj=0.05376002976496164 \n",
      " stopFeas=0.0034387898793531903 \n",
      " primalObj=-2.6117477167037872 \n",
      "--------------------------\n",
      " iter=1024 \n",
      " stopObj=0.018392515363299555 \n",
      " stopFeas=0.0010880337678561816 \n",
      " primalObj=-2.646721853969701 \n",
      "* status = stopping criteria met\n",
      "  2.523799 seconds (4.92 M allocations: 854.821 MiB, 7.57% gc time)\n",
      "------------------------------------\n",
      "**Numerical result:\n",
      "====================================\n",
      "opt_val=-2.6600006152180176\n",
      "====================================\n",
      "Dimension of the null space of Gram matrix = 1\n",
      "------------------------------------\n",
      "atom 1 = [0.5648064161000919, -0.585316710175484, -1.1165175063470596, 0.8681223646527725, 3.1114500001274865]\n",
      "  check gap of lower bound  = 12213.024903806716\n",
      "  check equality constraint 1 = 11.342970824161595\n",
      "  0.001739 seconds (1.14 k allocations: 89.078 KiB)\n",
      "  2.527374 seconds (4.93 M allocations: 855.748 MiB, 7.56% gc time)\n"
     ]
    },
    {
     "data": {
      "text/plain": [
       "(-2.6600006152180176, Array{Float64,1}[])"
      ]
     },
     "execution_count": 4,
     "metadata": {},
     "output_type": "execute_result"
    }
   ],
   "source": [
    "using SpectralPOP\n",
    "\n",
    "\n",
    "opt_val,opt_sol = SpectralPOP.CTP_POP(x,f,h,k,R;method=\"SketchyCGAL\",EigAlg=\"Arpack\",tol=1e-3)"
   ]
  },
  {
   "cell_type": "code",
   "execution_count": 5,
   "metadata": {},
   "outputs": [
    {
     "name": "stderr",
     "output_type": "stream",
     "text": [
      "┌ Warning: `with_optimizer` is deprecated. Adapt the following example to update your code:\n",
      "│ `with_optimizer(Ipopt.Optimizer, max_cpu_time=60.0)` becomes `optimizer_with_attributes(Ipopt.Optimizer, \"max_cpu_time\" => 60.0)`.\n",
      "│   caller = ip:0x0\n",
      "└ @ Core :-1\n"
     ]
    },
    {
     "name": "stdout",
     "output_type": "stream",
     "text": [
      "OPTIMAL\n",
      "opt_val=-2.6650546747097486\n",
      "Atomic measure on the variables x[1], x[2], x[3], x[4], x[5] with 1 atoms:\n",
      " at [0.5810897057369661, -0.4185093847825373, -0.04084765760056889, 0.16183662521946696, 0.6777351957905989] with weight 1.0000000035204075\n",
      " 45.993748 seconds (61.08 M allocations: 3.021 GiB, 5.03% gc time)\n"
     ]
    },
    {
     "data": {
      "text/plain": [
       "(-2.6650546747097486, [0.5810897057369661, -0.4185093847825373, -0.04084765760056889, 0.16183662521946696, 0.6777351957905989])"
      ]
     },
     "execution_count": 5,
     "metadata": {},
     "output_type": "execute_result"
    }
   ],
   "source": [
    "using SpectralPOP\n",
    "\n",
    "g=Vector{Polynomial{true,Float64}}([])\n",
    "\n",
    "opt_val,opt_sol = SpectralPOP.SumofSquares_POP_WithExtraction(x,f,g,h,k)"
   ]
  },
  {
   "cell_type": "code",
   "execution_count": null,
   "metadata": {},
   "outputs": [],
   "source": []
  }
 ],
 "metadata": {
  "kernelspec": {
   "display_name": "Julia 1.3.0",
   "language": "julia",
   "name": "julia-1.3"
  },
  "language_info": {
   "file_extension": ".jl",
   "mimetype": "application/julia",
   "name": "julia",
   "version": "1.3.0"
  }
 },
 "nbformat": 4,
 "nbformat_minor": 2
}
