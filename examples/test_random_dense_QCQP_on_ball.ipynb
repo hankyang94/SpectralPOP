{
 "cells": [
  {
   "cell_type": "code",
   "execution_count": 2,
   "metadata": {},
   "outputs": [
    {
     "name": "stdout",
     "output_type": "stream",
     "text": [
      "***Problem setting***\n",
      "Number of variable: n=10\n",
      "====================\n",
      "Number of inequality constraints: l_g=2\n",
      "====================\n",
      "Number of equality constraints: l_h=2\n",
      "====================\n",
      "Relaxed order: k=2\n"
     ]
    }
   ],
   "source": [
    "using DynamicPolynomials\n",
    "\n",
    "println(\"***Problem setting***\")\n",
    "\n",
    "n=10\n",
    "l_g=ceil(Int32, n/8)\n",
    "l_h=ceil(Int32, n/8)\n",
    "\n",
    "println(\"Number of variable: n=\",n)\n",
    "println(\"====================\")\n",
    "\n",
    "@polyvar x[1:n]# variables\n",
    "\n",
    "\n",
    "\n",
    "# random quadratic objective function f\n",
    "v=reverse(monomials(x,0:2))\n",
    "c=2*rand(Float64,length(v)).-1\n",
    "f=c'*v\n",
    "\n",
    "\n",
    "# unit sphere constraint\n",
    "R=1.0\n",
    "g=[R-sum(x.^2)] #type of coefficients of each polynomial must be float\n",
    "\n",
    "\n",
    "\n",
    "# random quadratic equality constraints\n",
    "randx=2*rand(n).-1# create a feasible solution\n",
    "randx=randx./sqrt(sum(randx.^2))\n",
    "randx=randx.*rand(1)\n",
    "\n",
    "for j in 1:l_g-1\n",
    "    a=2*rand(Float64,length(v[2:end])).-1\n",
    "    push!(g,a'*v[2:end])\n",
    "    g[end]-=g[end](x => randx)#make constraints feasible\n",
    "    g[end]+=rand(1)[1]\n",
    "end\n",
    "#g=Polynomial{true,Float64}[]\n",
    "l_g=length(g)\n",
    "println(\"Number of inequality constraints: l_g=\",l_g)\n",
    "println(\"====================\")\n",
    "\n",
    "h=Polynomial{true,Float64}[]\n",
    "for j in 1:l_h\n",
    "    a=2*rand(Float64,length(v[2:end])).-1\n",
    "    push!(h,a'*v[2:end])\n",
    "    h[end]-=h[end](x => randx) #make constraints feasible\n",
    "end\n",
    "l_h=length(h)\n",
    "\n",
    "println(\"Number of equality constraints: l_h=\",l_h)\n",
    "println(\"====================\")\n",
    "\n",
    "k=2\n",
    "\n",
    "println(\"Relaxed order: k=\",k)"
   ]
  },
  {
   "cell_type": "code",
   "execution_count": 3,
   "metadata": {},
   "outputs": [
    {
     "name": "stderr",
     "output_type": "stream",
     "text": [
      "┌ Warning: `with_optimizer` is deprecated. Adapt the following example to update your code:\n",
      "│ `with_optimizer(Ipopt.Optimizer, max_cpu_time=60.0)` becomes `optimizer_with_attributes(Ipopt.Optimizer, \"max_cpu_time\" => 60.0)`.\n",
      "│   caller = ip:0x0\n",
      "└ @ Core :-1\n"
     ]
    },
    {
     "name": "stdout",
     "output_type": "stream",
     "text": [
      "OPTIMAL\n",
      "opt_val=-1.5355261604170545\n",
      "Atomic measure on the variables x[1], x[2], x[3], x[4], x[5], x[6], x[7], x[8], x[9], x[10] with 1 atoms:\n",
      " at [-0.22394176438154048, 0.3612846917925644, -0.2927661645424446, -0.13314653995820958, -0.40461033397813667, 0.21758780720050422, -0.30360137883458727, 0.5392859664034237, -0.26666898229552477, -0.2251975874284014] with weight 1.0000000001812883\n",
      " 46.816838 seconds (86.80 M allocations: 4.510 GiB, 5.53% gc time)\n"
     ]
    },
    {
     "data": {
      "text/plain": [
       "(-1.5355261604170545, [-0.22394176438154048, 0.3612846917925644, -0.2927661645424446, -0.13314653995820958, -0.40461033397813667, 0.21758780720050422, -0.30360137883458727, 0.5392859664034237, -0.26666898229552477, -0.2251975874284014])"
      ]
     },
     "execution_count": 3,
     "metadata": {},
     "output_type": "execute_result"
    }
   ],
   "source": [
    "using SpectralPOP\n",
    "\n",
    "opt_val = SpectralPOP.SumofSquares_POP_WithExtraction(x,f,g,h,k)"
   ]
  },
  {
   "cell_type": "code",
   "execution_count": 4,
   "metadata": {},
   "outputs": [
    {
     "name": "stdout",
     "output_type": "stream",
     "text": [
      "  Largest upper bound of psd matrix: bound_ak=518.3870113870279\n",
      "  Number of blocks: numBloc=4\n",
      "  Size of block-diagonal matrix: s=89\n",
      "  Size of blocks: [66, 11, 11, 1]\n",
      "  Number of equality trace constraints: m=1475\n",
      "  2.231692 seconds (2.88 M allocations: 241.218 MiB, 4.73% gc time)\n",
      "***LMBM solver:***\n",
      "---------------\n",
      "| Parameters: |\n",
      "---------------\n",
      "n:       1475\n",
      "maxtime: 300000.000000\n",
      "na:      2\n",
      "mcu:     5\n",
      "mc:      7\n",
      "rpar: \n",
      "ipar: \n",
      "-----------\n",
      "| Output: |\n",
      "-----------\n",
      "Termination:     3\n",
      "N. iter.:        473\n",
      "N. func. eval.:  1369\n",
      "Final value:     2.308315\n",
      "Execution time:  14.896126\n",
      "####################################\n",
      "opt_val = -2.308315477893363\n",
      "####################################\n",
      "Dimension of the null space of Gram matrix = 1\n",
      "------------------------------------\n",
      "atom 1 = [0.0074557922120804575, 0.4051776945881454, -0.3017901795453235, 0.0450454116589938, -0.12566949469920966, 0.3310410412901431, -0.1971173523585399, 0.22714879583781875, -0.21508164307541702, 0.14977606071537067]\n",
      "  check gap of lower bound  = 1.7426240806555713\n",
      "  check inequality constraint 1 = 0.45814324486993485\n",
      "  check inequality constraint 2 = 0.7923529637745247\n",
      "  check equality constraint 1 = -0.7518521052924112\n",
      "  check equality constraint 2 = 0.21326029530226118\n",
      " 18.334790 seconds (16.74 M allocations: 1.896 GiB, 2.14% gc time)\n"
     ]
    },
    {
     "data": {
      "text/plain": [
       "(-2.308315477893363, Array{Float64,1}[])"
      ]
     },
     "execution_count": 4,
     "metadata": {},
     "output_type": "execute_result"
    }
   ],
   "source": [
    "using SpectralPOP\n",
    "\n",
    "opt_val,opt_sol = SpectralPOP.BTP_POP(x,f,g,h,k,R,EigAlg=\"Mix\",tol=1e-5,showNormGrad=false)"
   ]
  },
  {
   "cell_type": "code",
   "execution_count": 5,
   "metadata": {
    "scrolled": true
   },
   "outputs": [
    {
     "name": "stdout",
     "output_type": "stream",
     "text": [
      "**Conpute upper bound 1\n",
      "**Convert moment relaxation to standard SDP:\n",
      "  Size of psd matrix: sk=78\n",
      "  Number of equality trace constraints: m=1951\n",
      "  0.466357 seconds (380.07 k allocations: 42.791 MiB, 48.91% gc time)\n",
      "**LMBM solver:\n",
      "---------------\n",
      "| Parameters: |\n",
      "---------------\n",
      "n:       1951\n",
      "maxtime: 300000.000000\n",
      "na:      2\n",
      "mcu:     5\n",
      "mc:      7\n",
      "rpar: \n",
      "ipar: \n",
      "-----------\n",
      "| Output: |\n",
      "-----------\n",
      "Termination:     3\n",
      "N. iter.:        121\n",
      "N. func. eval.:  223\n",
      "Final value:     0.999567\n",
      "Execution time:  0.261017\n",
      "  0.261998 seconds (94.06 k allocations: 49.741 MiB)\n",
      "------------------------------------\n",
      "**Numerical result:\n",
      "====================================\n",
      "opt_val=-0.9995668553341457\n",
      "====================================\n",
      "Dimension of the null space of Gram matrix = 2\n",
      "------------------------------------\n",
      "atom 1 = [0.005712894681345568, -0.0026600751628525583, 0.00478488674420071, -0.013589522601487911, -0.006307813737271895, -0.0006146389272241491, -0.008172294623439984, -0.0060402740282466125, 0.00569246175256097, -0.0031680627931523746, -0.999780624788281]\n",
      "  check gap of lower bound  = 1.7112918304640345e-8\n",
      "  check equality constraint 1 = 2.249924018621341e-8\n",
      "  check equality constraint 2 = 1.4667744000045058e-6\n",
      "  check equality constraint 3 = 5.540519181890247e-6\n",
      "####################################\n",
      "Optimal solution: opt_sol = [0.005712894681345568, -0.0026600751628525583, 0.00478488674420071, -0.013589522601487911, -0.006307813737271895, -0.0006146389272241491, -0.008172294623439984, -0.0060402740282466125, 0.00569246175256097, -0.0031680627931523746, -0.999780624788281]\n",
      "####################################\n",
      "------------------------------------\n",
      "atom 2 = [0.0057125378839470945, -0.0026600339103739334, 0.004784602996116062, -0.013589303062924184, -0.006307623952188641, -0.0006144214173467604, -0.008171960940546733, -0.006040027747940763, 0.005692325966091873, -0.003167603518578092, 0.9997820677281473]\n",
      "  check gap of lower bound  = 1.1411442790709714e-8\n",
      "  check equality constraint 1 = 1.7470120448059845e-6\n",
      "  check equality constraint 2 = 1.7910946275411649e-6\n",
      "  check equality constraint 3 = 2.6837948188251914e-6\n",
      "####################################\n",
      "Optimal solution: opt_sol = [0.0057125378839470945, -0.0026600339103739334, 0.004784602996116062, -0.013589303062924184, -0.006307623952188641, -0.0006144214173467604, -0.008171960940546733, -0.006040027747940763, 0.005692325966091873, -0.003167603518578092, 0.9997820677281473]\n",
      "####################################\n",
      "  0.141722 seconds (79.29 k allocations: 4.250 MiB)\n",
      "  0.870680 seconds (554.54 k allocations: 96.811 MiB, 26.20% gc time)\n",
      "--------------------------\n",
      "**Conpute upper bound 2\n",
      "**Convert moment relaxation to standard SDP:\n",
      "  Size of psd matrix: sk=78\n",
      "  Number of equality trace constraints: m=1951\n",
      "  0.208790 seconds (229.07 k allocations: 35.221 MiB, 80.51% gc time)\n",
      "**LMBM solver:\n",
      "---------------\n",
      "| Parameters: |\n",
      "---------------\n",
      "n:       1951\n",
      "maxtime: 300000.000000\n",
      "na:      2\n",
      "mcu:     5\n",
      "mc:      7\n",
      "rpar: \n",
      "ipar: \n",
      "-----------\n",
      "| Output: |\n",
      "-----------\n",
      "Termination:     1\n",
      "N. iter.:        21\n",
      "N. func. eval.:  21\n",
      "Final value:     3.271977\n",
      "Execution time:  0.022293\n",
      "  0.023272 seconds (10.09 k allocations: 5.054 MiB)\n",
      "------------------------------------\n",
      "**Numerical result:\n",
      "====================================\n",
      "opt_val=-3.2719773597401223\n",
      "====================================\n",
      "Dimension of the null space of Gram matrix = 1\n",
      "------------------------------------\n",
      "atom 1 = [0.09989570497631285, -0.19838504750681252, 0.3031419799449647, 0.3915006434635096, 0.15680085853227624, 0.6037803266212365, 0.1634908214267777, 0.48957594220907674, 0.21534635207091524, -0.042651774045037255, -2.2427971237679395e-16]\n",
      "  check gap of lower bound  = 0.42957389356981046\n",
      "  check equality constraint 1 = 0.001688695594315906\n",
      "  check equality constraint 2 = 0.0010641886717575114\n",
      "  check equality constraint 3 = 0.001752138104256562\n",
      "  0.004311 seconds (2.27 k allocations: 633.641 KiB)\n",
      "  0.237286 seconds (242.63 k allocations: 40.932 MiB, 70.84% gc time)\n",
      "--------------------------\n",
      "  Radius of big ball: R_bar=5.271544215074268\n",
      "**Convert moment relaxation to standard SDP:\n",
      "  Size of psd matrix: sk=105\n",
      "  Number of equality trace constraints: m=3711\n",
      "  0.133259 seconds (486.51 k allocations: 81.091 MiB, 14.84% gc time)\n",
      "**LMBM solver:\n",
      "---------------\n",
      "| Parameters: |\n",
      "---------------\n",
      "n:       3711\n",
      "maxtime: 300000.000000\n",
      "na:      2\n",
      "mcu:     5\n",
      "mc:      7\n",
      "rpar: \n",
      "ipar: \n",
      "-----------\n",
      "| Output: |\n",
      "-----------\n",
      "Termination:     2\n",
      "N. iter.:        2300\n",
      "N. func. eval.:  8191\n",
      "Final value:     1.537871\n",
      "Execution time:  174.672836\n",
      " 70.646026 seconds (9.22 M allocations: 3.344 GiB, 0.67% gc time)\n",
      "------------------------------------\n",
      "**Numerical result:\n",
      "====================================\n",
      "opt_val=-1.5378708615830592\n",
      "====================================\n",
      "Dimension of the null space of Gram matrix = 4\n",
      "  0.180105 seconds (293.17 k allocations: 15.878 MiB)\n",
      " 70.960525 seconds (10.00 M allocations: 3.439 GiB, 0.70% gc time)\n",
      " 72.425881 seconds (11.09 M allocations: 3.588 GiB, 1.23% gc time)\n"
     ]
    },
    {
     "data": {
      "text/plain": [
       "(-1.5378708615830592, Array{Float64,1}[])"
      ]
     },
     "execution_count": 5,
     "metadata": {},
     "output_type": "execute_result"
    }
   ],
   "source": [
    "using SpectralPOP       \n",
    "\n",
    "opt_val,opt_sol = SpectralPOP.CTP_POP_on_Ball(x,f,g,h,k,R)"
   ]
  },
  {
   "cell_type": "code",
   "execution_count": null,
   "metadata": {},
   "outputs": [],
   "source": []
  }
 ],
 "metadata": {
  "kernelspec": {
   "display_name": "Julia 1.3.0",
   "language": "julia",
   "name": "julia-1.3"
  },
  "language_info": {
   "file_extension": ".jl",
   "mimetype": "application/julia",
   "name": "julia",
   "version": "1.3.0"
  }
 },
 "nbformat": 4,
 "nbformat_minor": 2
}
