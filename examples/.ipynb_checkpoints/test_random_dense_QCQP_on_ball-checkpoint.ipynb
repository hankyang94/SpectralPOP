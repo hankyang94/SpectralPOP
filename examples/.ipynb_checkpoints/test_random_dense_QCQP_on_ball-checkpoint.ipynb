{
 "cells": [
  {
   "cell_type": "code",
   "execution_count": 1,
   "metadata": {},
   "outputs": [
    {
     "name": "stdout",
     "output_type": "stream",
     "text": [
      "***Problem setting***\n",
      "Number of variable: n=10\n",
      "====================\n",
      "Number of inequality constraints: l_g=2\n",
      "====================\n",
      "Number of equality constraints: l_h=2\n",
      "====================\n",
      "Relaxed order: k=2\n"
     ]
    }
   ],
   "source": [
    "using DynamicPolynomials\n",
    "\n",
    "println(\"***Problem setting***\")\n",
    "\n",
    "n=10\n",
    "l_g=ceil(Int32, n/8)\n",
    "l_h=ceil(Int32, n/8)\n",
    "\n",
    "println(\"Number of variable: n=\",n)\n",
    "println(\"====================\")\n",
    "\n",
    "@polyvar x[1:n]# variables\n",
    "\n",
    "\n",
    "\n",
    "# random quadratic objective function f\n",
    "v=reverse(monomials(x,0:2))\n",
    "c=2*rand(Float64,length(v)).-1\n",
    "f=c'*v\n",
    "\n",
    "\n",
    "# unit sphere constraint\n",
    "R=1.0\n",
    "g=[R-sum(x.^2)] #type of coefficients of each polynomial must be float\n",
    "\n",
    "\n",
    "\n",
    "# random quadratic equality constraints\n",
    "randx=2*rand(n).-1# create a feasible solution\n",
    "randx=randx./sqrt(sum(randx.^2))\n",
    "randx=randx.*rand(1)\n",
    "\n",
    "for j in 1:l_g-1\n",
    "    a=2*rand(Float64,length(v[2:end])).-1\n",
    "    push!(g,a'*v[2:end])\n",
    "    g[end]-=g[end](x => randx)#make constraints feasible\n",
    "    g[end]+=rand(1)[1]\n",
    "end\n",
    "#g=Polynomial{true,Float64}[]\n",
    "l_g=length(g)\n",
    "println(\"Number of inequality constraints: l_g=\",l_g)\n",
    "println(\"====================\")\n",
    "\n",
    "h=Polynomial{true,Float64}[]\n",
    "for j in 1:l_h\n",
    "    a=2*rand(Float64,length(v[2:end])).-1\n",
    "    push!(h,a'*v[2:end])\n",
    "    h[end]-=h[end](x => randx) #make constraints feasible\n",
    "end\n",
    "l_h=length(h)\n",
    "\n",
    "println(\"Number of equality constraints: l_h=\",l_h)\n",
    "println(\"====================\")\n",
    "\n",
    "k=2\n",
    "\n",
    "println(\"Relaxed order: k=\",k)"
   ]
  },
  {
   "cell_type": "code",
   "execution_count": 2,
   "metadata": {},
   "outputs": [
    {
     "name": "stderr",
     "output_type": "stream",
     "text": [
      "┌ Warning: `with_optimizer` is deprecated. Adapt the following example to update your code:\n",
      "│ `with_optimizer(Ipopt.Optimizer, max_cpu_time=60.0)` becomes `optimizer_with_attributes(Ipopt.Optimizer, \"max_cpu_time\" => 60.0)`.\n",
      "│   caller = ip:0x0\n",
      "└ @ Core :-1\n"
     ]
    },
    {
     "name": "stdout",
     "output_type": "stream",
     "text": [
      "OPTIMAL\n",
      "opt_val=-1.676658598804876\n",
      "Atomic measure on the variables x[1], x[2], x[3], x[4], x[5], x[6], x[7], x[8], x[9], x[10] with 1 atoms:\n",
      " at [0.2583788296551514, -0.18826019430137303, 0.36476137385801066, -0.3838746712845303, -0.005947668528491667, -0.6885587864595469, 0.15466450271951834, -0.3393292336600636, 0.04787121024891536, 0.04338420626052573] with weight 0.9999999999995003\n",
      " 42.600407 seconds (86.69 M allocations: 4.503 GiB, 5.11% gc time)\n"
     ]
    },
    {
     "data": {
      "text/plain": [
       "(-1.676658598804876, [0.2583788296551514, -0.18826019430137303, 0.36476137385801066, -0.3838746712845303, -0.005947668528491667, -0.6885587864595469, 0.15466450271951834, -0.3393292336600636, 0.04787121024891536, 0.04338420626052573])"
      ]
     },
     "execution_count": 2,
     "metadata": {},
     "output_type": "execute_result"
    }
   ],
   "source": [
    "using SpectralPOP\n",
    "\n",
    "opt_val = SpectralPOP.SumofSquares_POP_WithExtraction(x,f,g,h,k)"
   ]
  },
  {
   "cell_type": "code",
   "execution_count": 5,
   "metadata": {},
   "outputs": [
    {
     "name": "stdout",
     "output_type": "stream",
     "text": [
      "  Largest upper bound of psd matrix: bound_ak=563.1627043717394\n",
      "  Number of blocks: numBloc=4\n",
      "  Size of block-diagonal matrix: s=89\n",
      "  Size of blocks: [66, 11, 11, 1]\n",
      "  Number of equality trace constraints: m=1475\n"
     ]
    },
    {
     "name": "stderr",
     "output_type": "stream",
     "text": [
      "WARNING: replacing module SpectralPOP.\n"
     ]
    },
    {
     "name": "stdout",
     "output_type": "stream",
     "text": [
      "  0.374846 seconds (385.41 k allocations: 122.172 MiB, 8.91% gc time)\n",
      "***LMBM solver:***\n",
      "---------------\n",
      "| Parameters: |\n",
      "---------------\n",
      "n:       1475\n",
      "maxtime: 300000.000000\n",
      "na:      2\n",
      "mcu:     5\n",
      "mc:      7\n",
      "rpar: \n",
      "ipar: \n",
      "-----------\n",
      "| Output: |\n",
      "-----------\n",
      "Termination:     3\n",
      "N. iter.:        377\n",
      "N. func. eval.:  1098\n",
      "Final value:     2.717528\n",
      "Execution time:  8.191071\n",
      "####################################\n",
      "opt_val = -2.7175280497580334\n",
      "####################################\n",
      "Dimension of the null space of Gram matrix = 1\n",
      "------------------------------------\n",
      "atom 1 = [-0.14960845937761758, -0.10950095617742048, -0.24436353866283642, 0.2059868807936847, 0.2765026608810451, 0.5754319699535854, -0.12557116873561047, -0.3208320994221434, -0.37745712008630455, 0.13745163487968803]\n",
      "  check gap of lower bound  = 1.8517716540244664\n",
      "  check inequality constraint 1 = 0.17583885800079557\n",
      "  check inequality constraint 2 = 0.4597040058577567\n",
      "  check equality constraint 1 = 0.7281789479852852\n",
      "  check equality constraint 2 = 0.35326743005647987\n",
      "  8.958771 seconds (9.15 M allocations: 1.344 GiB, 2.11% gc time)\n"
     ]
    },
    {
     "data": {
      "text/plain": [
       "(-2.7175280497580334, Array{Float64,1}[])"
      ]
     },
     "execution_count": 5,
     "metadata": {},
     "output_type": "execute_result"
    }
   ],
   "source": [
    "using SpectralPOP\n",
    "\n",
    "opt_val,opt_sol = SpectralPOP.BTP_POP(x,f,g,h,k,R,EigAlg=\"Mix\",tol=1e-5,showNormGrad=false)"
   ]
  },
  {
   "cell_type": "code",
   "execution_count": 6,
   "metadata": {
    "scrolled": true
   },
   "outputs": [
    {
     "name": "stdout",
     "output_type": "stream",
     "text": [
      "**Conpute upper bound 1\n",
      "**Convert moment relaxation to standard SDP:\n",
      "  Size of psd matrix: sk=78\n",
      "  Number of equality trace constraints: m=1951\n",
      "  0.090198 seconds (278.63 k allocations: 37.621 MiB)\n",
      "**LMBM solver:\n",
      "---------------\n"
     ]
    },
    {
     "name": "stderr",
     "output_type": "stream",
     "text": [
      "WARNING: replacing module SpectralPOP.\n"
     ]
    },
    {
     "name": "stdout",
     "output_type": "stream",
     "text": [
      "| Parameters: |\n",
      "---------------\n",
      "n:       1951\n",
      "maxtime: 300000.000000\n",
      "na:      2\n",
      "mcu:     5\n",
      "mc:      7\n",
      "rpar: \n",
      "ipar: \n",
      "-----------\n",
      "| Output: |\n",
      "-----------\n",
      "Termination:     2\n",
      "N. iter.:        123\n",
      "N. func. eval.:  210\n",
      "Final value:     0.981184\n",
      "Execution time:  0.293625\n",
      "  0.518470 seconds (346.45 k allocations: 61.382 MiB, 5.77% gc time)\n",
      "------------------------------------\n",
      "**Numerical result:\n",
      "====================================\n",
      "opt_val=-0.9811839419319981\n",
      "====================================\n",
      "Dimension of the null space of Gram matrix = 2\n",
      "------------------------------------\n",
      "atom 1 = [-0.0689614642564588, 0.01003930729775858, -0.020240856768029218, -0.07807912224282801, -0.054549966369868974, -0.018983976361461152, 0.056258603816407335, -0.011428689302797997, -0.002239205048447699, -0.028552257428873847, -0.9905393008779693]\n",
      "  check gap of lower bound  = 1.5641361424956202e-6\n",
      "  check equality constraint 1 = 6.303040378796698e-6\n",
      "  check equality constraint 2 = 1.2610279624403198e-5\n",
      "  check equality constraint 3 = 1.7399484324442938e-5\n",
      "####################################\n",
      "Optimal solution: opt_sol = [-0.0689614642564588, 0.01003930729775858, -0.020240856768029218, -0.07807912224282801, -0.054549966369868974, -0.018983976361461152, 0.056258603816407335, -0.011428689302797997, -0.002239205048447699, -0.028552257428873847, -0.9905393008779693]\n",
      "####################################\n",
      "------------------------------------\n",
      "atom 2 = [-0.06896523908648763, 0.010041798090770092, -0.020240770883538522, -0.07808327599795217, -0.05455294278977087, -0.018983017817249058, 0.056260439886368405, -0.011430472483455289, -0.0022385610163589316, -0.028551136899283, 0.9905572852647884]\n",
      "  check gap of lower bound  = 1.2054322484633673e-7\n",
      "  check equality constraint 1 = 3.0892899732792856e-7\n",
      "  check equality constraint 2 = 1.2307168847092154e-6\n",
      "  check equality constraint 3 = 1.991400237399965e-5\n",
      "####################################\n",
      "Optimal solution: opt_sol = [-0.06896523908648763, 0.010041798090770092, -0.020240770883538522, -0.07808327599795217, -0.05455294278977087, -0.018983017817249058, 0.056260439886368405, -0.011430472483455289, -0.0022385610163589316, -0.028551136899283, 0.9905572852647884]\n",
      "####################################\n",
      "  0.006283 seconds (7.45 k allocations: 881.156 KiB)\n",
      "  0.615494 seconds (633.57 k allocations: 99.885 MiB, 4.86% gc time)\n",
      "--------------------------\n",
      "**Conpute upper bound 2\n",
      "**Convert moment relaxation to standard SDP:\n",
      "  Size of psd matrix: sk=78\n",
      "  Number of equality trace constraints: m=1951\n",
      "  0.058687 seconds (229.07 k allocations: 35.221 MiB, 20.73% gc time)\n",
      "**LMBM solver:\n",
      "---------------\n",
      "| Parameters: |\n",
      "---------------\n",
      "n:       1951\n",
      "maxtime: 300000.000000\n",
      "na:      2\n",
      "mcu:     5\n",
      "mc:      7\n",
      "rpar: \n",
      "ipar: \n",
      "-----------\n",
      "| Output: |\n",
      "-----------\n",
      "Termination:     1\n",
      "N. iter.:        38\n",
      "N. func. eval.:  48\n",
      "Final value:     1.682290\n",
      "Execution time:  0.146423\n",
      "  0.075414 seconds (24.30 k allocations: 11.149 MiB)\n",
      "------------------------------------\n",
      "**Numerical result:\n",
      "====================================\n",
      "opt_val=-1.682290317226374\n",
      "====================================\n",
      "Dimension of the null space of Gram matrix = 1\n",
      "------------------------------------\n",
      "atom 1 = [-0.6382444057172512, 0.2590720399479591, -0.06409545846561292, 0.2303095873309513, 0.12084254300186403, 0.5407745492544828, -0.06181287603960572, 0.36975314843517226, -0.14160235357176063, -0.046385569231115725, -1.014842201471796e-16]\n",
      "  check gap of lower bound  = 0.32211073673509344\n",
      "  check equality constraint 1 = 0.0008108694729372923\n",
      "  check equality constraint 2 = 0.0006169639045373043\n",
      "  check equality constraint 3 = 0.0014060804371474056\n",
      "  0.004254 seconds (2.44 k allocations: 639.188 KiB)\n",
      "  0.138908 seconds (256.88 k allocations: 47.018 MiB, 8.76% gc time)\n",
      "--------------------------\n",
      "  Radius of big ball: R_bar=3.663474259158372\n",
      "**Convert moment relaxation to standard SDP:\n",
      "  Size of psd matrix: sk=105\n",
      "  Number of equality trace constraints: m=3711\n",
      "  0.159776 seconds (486.51 k allocations: 81.092 MiB, 18.75% gc time)\n",
      "**LMBM solver:\n",
      "---------------\n",
      "| Parameters: |\n",
      "---------------\n",
      "n:       3711\n",
      "maxtime: 300000.000000\n",
      "na:      2\n",
      "mcu:     5\n",
      "mc:      7\n",
      "rpar: \n",
      "ipar: \n",
      "-----------\n",
      "| Output: |\n",
      "-----------\n",
      "Termination:     2\n",
      "N. iter.:        1365\n",
      "N. func. eval.:  5740\n",
      "Final value:     1.737488\n",
      "Execution time:  140.282242\n",
      " 50.037556 seconds (7.85 M allocations: 2.395 GiB, 0.73% gc time)\n",
      "------------------------------------\n",
      "**Numerical result:\n",
      "====================================\n",
      "opt_val=-1.7374876304188345\n",
      "====================================\n",
      "Dimension of the null space of Gram matrix = 5\n",
      "------------------------------------\n",
      "atom 1 = [-0.5219606480874412, -0.04292825452529564, -0.10925687827950131, 2.127078632219898, 1.3971562228615464, 2.223058306198548, -0.1446222695635252, 1.9936419649814643, -2.2538017623589783, -0.9323750641724114, 1.6879666837633472e-16, 0.01896005407805216, 0.5463648197987842]\n",
      "  check gap of lower bound  = 1576.2465534893727\n",
      "  check equality constraint 1 = 4.066545032012891\n",
      "  check equality constraint 2 = 12.931668710456858\n",
      "  check equality constraint 3 = 20.649189599817205\n",
      "  check equality constraint 4 = 31.702192401287977\n",
      "  check equality constraint 5 = 18.284589340623235\n",
      "------------------------------------\n",
      "atom 2 = [0.022666717973829152, -0.13036391694510743, 0.24893705778597694, 0.4112198257506095, 0.43244887623074096, 0.29094269890814545, 0.09331983634480936, 0.49617696901261804, -0.693395540784006, -0.13363068791763189, 2.869661038066998e-16, -0.15035376953615678, 0.19919952377686873]\n",
      "  check gap of lower bound  = 10.821977116513908\n",
      "  check equality constraint 1 = 0.6057747284771993\n",
      "  check equality constraint 2 = 1.9014001032671621\n",
      "  check equality constraint 3 = 0.27379433254211727\n",
      "  check equality constraint 4 = 2.300300308310482\n",
      "  check equality constraint 5 = 2.3273932203295917\n",
      "------------------------------------\n",
      "atom 3 = [0.06214643688515397, 1.2845622498585447, -0.4470588653795286, 0.36494650448337873, 0.6441337011424406, 0.837298416476214, 0.010800275739066206, 0.8170085990724284, -0.23037969029907843, -0.27066807372914276, -5.694582088676952e-16, 0.02419058404835335, -0.5742626322123282]\n",
      "  check gap of lower bound  = 217.36871997950178\n",
      "  check equality constraint 1 = 0.44764261655621074\n",
      "  check equality constraint 2 = 1.329695104168389\n",
      "  check equality constraint 3 = 2.8969425015621457\n",
      "  check equality constraint 4 = 2.332563044721966\n",
      "  check equality constraint 5 = 0.5638309975158053\n",
      "------------------------------------\n",
      "atom 4 = [0.9325018529386349, -0.447816912289586, -0.021472297530134892, -4.037837982771024, -2.9570961283876773, -5.298367802739878, 0.06981136759459951, -5.27290544331521, 4.816113190193305, 2.307771140403624, -1.1423520462967306e-14, -0.8832064155318655, 11.52101129090004]\n",
      "  check gap of lower bound  = 9147.373333502932\n",
      "  check equality constraint 1 = 27.036552084350532\n",
      "  check equality constraint 2 = 50.97172035454128\n",
      "  check equality constraint 3 = 109.52097455139453\n",
      "  check equality constraint 4 = 112.81672888421855\n",
      "  check equality constraint 5 = 240.371255029719\n",
      "------------------------------------\n",
      "atom 5 = [-1.3428083847920955, -1.474087310431029, 0.4534068531871268, 1.8882783865083526, 1.3268098531355708, 1.661893113252362, 0.25634441590965573, 2.177177721443582, -2.299642356269511, 0.432846688712358, 3.236611580868783e-14, 0.861721373358919, -7.331399942160313]\n",
      "  check gap of lower bound  = 1302.3773815038292\n",
      "  check equality constraint 1 = 9.366701947121282\n",
      "  check equality constraint 2 = 13.534580990148845\n",
      "  check equality constraint 3 = 21.551080415763018\n",
      "  check equality constraint 4 = 28.20949221612004\n",
      "  check equality constraint 5 = 73.37959499381647\n",
      "  0.045212 seconds (16.56 k allocations: 1.955 MiB)\n",
      " 50.243414 seconds (8.36 M allocations: 2.476 GiB, 0.78% gc time)\n",
      " 50.998983 seconds (9.25 M allocations: 2.620 GiB, 0.85% gc time)\n"
     ]
    },
    {
     "data": {
      "text/plain": [
       "(-1.7374876304188345, Array{Float64,1}[])"
      ]
     },
     "execution_count": 6,
     "metadata": {},
     "output_type": "execute_result"
    }
   ],
   "source": [
    "using SpectralPOP       \n",
    "\n",
    "opt_val,opt_sol = SpectralPOP.CTP_POP_on_Ball(x,f,g,h,k,R)"
   ]
  },
  {
   "cell_type": "code",
   "execution_count": null,
   "metadata": {},
   "outputs": [],
   "source": []
  }
 ],
 "metadata": {
  "kernelspec": {
   "display_name": "Julia 1.3.0",
   "language": "julia",
   "name": "julia-1.3"
  },
  "language_info": {
   "file_extension": ".jl",
   "mimetype": "application/julia",
   "name": "julia",
   "version": "1.3.0"
  }
 },
 "nbformat": 4,
 "nbformat_minor": 2
}
