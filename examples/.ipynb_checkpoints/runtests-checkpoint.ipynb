{
 "cells": [
  {
   "cell_type": "code",
   "execution_count": null,
   "metadata": {},
   "outputs": [
    {
     "name": "stdout",
     "output_type": "stream",
     "text": [
      "****Test polynomial optimization****\n",
      "**SumOfSquares+Mosek:\n"
     ]
    },
    {
     "name": "stderr",
     "output_type": "stream",
     "text": [
      "┌ Warning: `with_optimizer` is deprecated. Adapt the following example to update your code:\n",
      "│ `with_optimizer(Ipopt.Optimizer, max_cpu_time=60.0)` becomes `optimizer_with_attributes(Ipopt.Optimizer, \"max_cpu_time\" => 60.0)`.\n",
      "│   caller = ip:0x0\n",
      "└ @ Core :-1\n"
     ]
    },
    {
     "name": "stdout",
     "output_type": "stream",
     "text": [
      "OPTIMAL\n",
      "opt_val=0.2499999989810142\n",
      "Atomic measure on the variables x[1], x[2] with 1 atoms:\n"
     ]
    }
   ],
   "source": [
    "\n",
    "println(\"****Test polynomial optimization****\")\n",
    "\n",
    "using DynamicPolynomials\n",
    "\n",
    "@polyvar x[1:2] # variables\n",
    "\n",
    "f=x[1]^2+0.5*x[1]*x[2]-0.25*x[2]^2+0.75*x[1]-0.3*x[2] # objective function\n",
    "\n",
    "R=1.0 # squared radius of a sphere constraint\n",
    "h=[R-sum(x.^2);(x[1]-1.0)*x[2]] # equality constraints (including the sphere constraint)\n",
    "\n",
    "k=2 # relaxed order\n",
    "\n",
    "include(\"../src/SpectralPOP.jl\")\n",
    "using .SpectralPOP\n",
    "\n",
    "g=Vector{Polynomial{true,Float64}}([])\n",
    "opt_val = SpectralPOP.SumofSquares_POP_WithExtraction(x,f,g,h,k) # SumOfSquares.jl + Mosek\n",
    "println()\n",
    "println(\".................................\")\n",
    "println()\n",
    "\n",
    "\n",
    "# get approximations of the optimal value and an optimal solution\n",
    "opt_val,opt_sol = SpectralPOP.CTP_POP(x,f,h,k,R,method=\"LMBM\",EigAlg=\"Arpack\",tol=1e-5)# Limited Memory Bundle Method\n",
    "println()\n",
    "println(\".................................\")\n",
    "println()\n",
    "opt_val,opt_sol = SpectralPOP.CTP_POP(x,f,h,k,R,method=\"SketchyCGAL\",EigAlg=\"Normal\",tol=1e-3)# Limited Memory Bundle Method"
   ]
  },
  {
   "cell_type": "code",
   "execution_count": null,
   "metadata": {},
   "outputs": [],
   "source": [
    "println(\"****Test polynomial system****\")\n",
    "\n",
    "using DynamicPolynomials\n",
    "\n",
    "@polyvar x[1:2] # variables\n",
    "\n",
    "# mickey equations\n",
    "h=[x[1]^2 + 4*x[2]^2 - 4;\n",
    "        2*x[2]^2 - x[1]]\n",
    "\n",
    "L=10 # squared radius of a ball centered at origin containing at least one real root\n",
    "k=1 # relaxed order\n",
    "\n",
    "include(\"../src/SpectralPOP.jl\")\n",
    "using .SpectralPOP\n",
    "\n",
    "# get a real root\n",
    "root = SpectralPOP.ASC_PolySys(x,h,k,L,method=\"LMBM\",EigAlg=\"Arpack\",tol=1e-5)\n"
   ]
  },
  {
   "cell_type": "code",
   "execution_count": null,
   "metadata": {},
   "outputs": [],
   "source": [
    "include(\"../test/runtests.jl\")"
   ]
  },
  {
   "cell_type": "code",
   "execution_count": null,
   "metadata": {},
   "outputs": [],
   "source": [
    "include(\"../test/poly_opt/test_random_dense_quadratic_on_sphere.jl\")"
   ]
  }
 ],
 "metadata": {
  "kernelspec": {
   "display_name": "Julia 1.3.0",
   "language": "julia",
   "name": "julia-1.3"
  },
  "language_info": {
   "file_extension": ".jl",
   "mimetype": "application/julia",
   "name": "julia",
   "version": "1.3.0"
  }
 },
 "nbformat": 4,
 "nbformat_minor": 2
}
