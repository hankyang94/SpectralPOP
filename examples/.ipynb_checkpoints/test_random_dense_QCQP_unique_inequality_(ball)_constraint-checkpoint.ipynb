{
 "cells": [
  {
   "cell_type": "code",
   "execution_count": 5,
   "metadata": {},
   "outputs": [
    {
     "name": "stdout",
     "output_type": "stream",
     "text": [
      "***Problem setting***\n",
      "Number of variable: n=5\n",
      "====================\n",
      "Number of inequality constraints: l_g=1\n",
      "====================\n",
      "Number of equality constraints: l_h=2\n",
      "====================\n",
      "Relaxed order: k=2\n"
     ]
    }
   ],
   "source": [
    "using DynamicPolynomials\n",
    "\n",
    "println(\"***Problem setting***\")\n",
    "\n",
    "n=5\n",
    "l_h=ceil(Int32, n/4)\n",
    "\n",
    "println(\"Number of variable: n=\",n)\n",
    "println(\"====================\")\n",
    "\n",
    "@polyvar x[1:n]# variables\n",
    "\n",
    "\n",
    "# random quadratic objective function f\n",
    "v=reverse(monomials(x,0:2))\n",
    "c=2*rand(Float64,length(v)).-1\n",
    "f=c'*v\n",
    "\n",
    "\n",
    "# random quadratic equality constraints\n",
    "randx=2*rand(n).-1# create a feasible solution\n",
    "randx=randx./sqrt(sum(randx.^2))\n",
    "randx=randx.*rand(1)\n",
    "\n",
    "R=1.0\n",
    "g=[R-sum(x.^2)]\n",
    "\n",
    "println(\"Number of inequality constraints: l_g=\",1)\n",
    "println(\"====================\")\n",
    "\n",
    "h=Polynomial{true,Float64}[]\n",
    "for j in 1:l_h\n",
    "    a=2*rand(Float64,length(v[2:end])).-1\n",
    "    push!(h,a'*v[2:end])\n",
    "    h[end]-=h[end](x => randx) #make constraints feasible\n",
    "end\n",
    "l_h=length(h)\n",
    "\n",
    "println(\"Number of equality constraints: l_h=\",l_h)\n",
    "println(\"====================\")\n",
    "\n",
    "k=2\n",
    "\n",
    "println(\"Relaxed order: k=\",k)"
   ]
  },
  {
   "cell_type": "code",
   "execution_count": 6,
   "metadata": {},
   "outputs": [
    {
     "name": "stdout",
     "output_type": "stream",
     "text": [
      "OPTIMAL\n",
      "opt_val=-2.1771427941791024\n",
      "Atomic measure on the variables x[1], x[2], x[3], x[4], x[5] with 1 atoms:\n",
      " at [0.13790985459617272, 0.11264855403482484, -0.3186590917972099, -0.08588262234293349, -0.9270230484282401] with weight 1.0000000001061429\n",
      "  0.051965 seconds (204.72 k allocations: 17.470 MiB)\n"
     ]
    },
    {
     "data": {
      "text/plain": [
       "(-2.1771427941791024, [0.13790985459617272, 0.11264855403482484, -0.3186590917972099, -0.08588262234293349, -0.9270230484282401])"
      ]
     },
     "execution_count": 6,
     "metadata": {},
     "output_type": "execute_result"
    }
   ],
   "source": [
    "using SpectralPOP\n",
    "\n",
    "opt_val = SpectralPOP.SumofSquares_POP_WithExtraction(x,f,g,h,k)"
   ]
  },
  {
   "cell_type": "code",
   "execution_count": 7,
   "metadata": {},
   "outputs": [
    {
     "name": "stdout",
     "output_type": "stream",
     "text": [
      "  Largest upper bound of psd matrix: bound_ak=57.0\n",
      "  Number of blocks: numBloc=3\n",
      "  Size of block-diagonal matrix: s=28\n",
      "  Size of blocks: [21, 6, 1]\n",
      "  Number of equality trace constraints: m=169\n",
      "  0.025034 seconds (24.14 k allocations: 3.709 MiB)\n",
      "***LMBM solver:***\n",
      "---------------\n",
      "| Parameters: |\n",
      "---------------\n",
      "n:       169\n",
      "maxtime: 300000.000000\n",
      "na:      2\n",
      "mcu:     5\n",
      "mc:      7\n",
      "rpar: \n",
      "ipar: \n",
      "-----------\n",
      "| Output: |\n",
      "-----------\n",
      "Termination:     3\n",
      "N. iter.:        226\n",
      "N. func. eval.:  599\n",
      "Final value:     2.186238\n",
      "Execution time:  0.509399\n",
      "####################################\n",
      "opt_val = -2.186237734891049\n",
      "####################################\n",
      "Dimension of the null space of Gram matrix = 1\n",
      "------------------------------------\n",
      "atom 1 = [0.0231222784558592, 0.15126977999065738, -0.2872743497064199, -0.1268476855152526, -1.0210335406131001]\n",
      "  check gap of lower bound  = -0.2870316055958111\n",
      "  check inequality constraint 1 = -0.16454356447615837\n",
      "  check equality constraint 1 = 0.02299995820137178\n",
      "  check equality constraint 2 = 0.09537671452493265\n",
      "  0.546716 seconds (397.23 k allocations: 67.191 MiB, 3.18% gc time)\n"
     ]
    },
    {
     "data": {
      "text/plain": [
       "(-2.186237734891049, Array{Float64,1}[])"
      ]
     },
     "execution_count": 7,
     "metadata": {},
     "output_type": "execute_result"
    }
   ],
   "source": [
    "using SpectralPOP   \n",
    "\n",
    "opt_val,opt_sol = SpectralPOP.BTP_POP(x,f,g,h,k,R)"
   ]
  },
  {
   "cell_type": "code",
   "execution_count": 8,
   "metadata": {
    "scrolled": true
   },
   "outputs": [
    {
     "name": "stdout",
     "output_type": "stream",
     "text": [
      "**Convert moment relaxation to standard SDP:\n",
      "  Size of psd matrix: sk=28\n",
      "  Number of equality trace constraints: m=281\n",
      "  0.003481 seconds (23.60 k allocations: 2.723 MiB)\n",
      "**LMBM solver:\n",
      "---------------\n",
      "| Parameters: |\n",
      "---------------\n",
      "n:       281\n",
      "maxtime: 300000.000000\n",
      "na:      2\n",
      "mcu:     5\n",
      "mc:      7\n",
      "rpar: \n",
      "ipar: \n",
      "-----------\n",
      "| Output: |\n",
      "-----------\n",
      "Termination:     1\n",
      "N. iter.:        30\n",
      "N. func. eval.:  37\n",
      "Final value:     2.177144\n",
      "Execution time:  0.018364\n",
      "  0.019176 seconds (11.31 k allocations: 1.744 MiB)\n",
      "------------------------------------\n",
      "**Numerical result:\n",
      "====================================\n",
      "opt_val=-2.1771435213131323\n",
      "====================================\n",
      "Dimension of the null space of Gram matrix = 1\n",
      "------------------------------------\n",
      "atom 1 = [0.13873437211554907, 0.11200932671392047, -0.3183175267418287, -0.0854594591336425, -0.9269852809867869, -4.4993416542343766e-17]\n",
      "  check gap of lower bound  = 0.49639781915024966\n",
      "  check equality constraint 1 = 0.0005237042506548301\n",
      "  check equality constraint 2 = 0.0005951843836601578\n",
      "  check equality constraint 3 = 0.0002756065701967625\n",
      "  0.001549 seconds (1.65 k allocations: 133.266 KiB)\n",
      "  0.024690 seconds (37.55 k allocations: 4.618 MiB)\n",
      "  0.024927 seconds (38.37 k allocations: 4.654 MiB)\n"
     ]
    },
    {
     "data": {
      "text/plain": [
       "(-2.1771435213131323, Array{Float64,1}[])"
      ]
     },
     "execution_count": 8,
     "metadata": {},
     "output_type": "execute_result"
    }
   ],
   "source": [
    "using SpectralPOP\n",
    "\n",
    "opt_val,opt_sol=SpectralPOP.CTP_POP_UniqueBallIneq(x,f,h,k,R;method=\"LMBM\",EigAlg=\"Arpack\",tol=1e-5)"
   ]
  },
  {
   "cell_type": "code",
   "execution_count": null,
   "metadata": {},
   "outputs": [],
   "source": []
  }
 ],
 "metadata": {
  "kernelspec": {
   "display_name": "Julia 1.3.0",
   "language": "julia",
   "name": "julia-1.3"
  },
  "language_info": {
   "file_extension": ".jl",
   "mimetype": "application/julia",
   "name": "julia",
   "version": "1.3.0"
  }
 },
 "nbformat": 4,
 "nbformat_minor": 2
}
