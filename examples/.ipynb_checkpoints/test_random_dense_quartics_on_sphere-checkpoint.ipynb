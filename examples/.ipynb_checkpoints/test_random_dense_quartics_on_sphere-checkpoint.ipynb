{
 "cells": [
  {
   "cell_type": "code",
   "execution_count": 1,
   "metadata": {},
   "outputs": [
    {
     "name": "stdout",
     "output_type": "stream",
     "text": [
      "***Problem setting***\n",
      "Number of variable: n=5\n",
      "====================\n",
      "Number of equality constraints: l_h=1\n",
      "====================\n",
      "Relaxed order: k=2\n"
     ]
    }
   ],
   "source": [
    "using DynamicPolynomials\n",
    "\n",
    "println(\"***Problem setting***\")\n",
    "\n",
    "n=5\n",
    "\n",
    "println(\"Number of variable: n=\",n)\n",
    "println(\"====================\")\n",
    "\n",
    "@polyvar x[1:n]# variables\n",
    "\n",
    "# random quadratic objective function f\n",
    "v=reverse(monomials(x,0:4))\n",
    "c=2*rand(Float64,length(v)).-1\n",
    "f=c'*v\n",
    "\n",
    "\n",
    "# unit sphere constraint\n",
    "R=1.0\n",
    "h=[R-sum(x.^2)] #type of coefficients of each polynomial must be float\n",
    "\n",
    "l_h=length(h)\n",
    "\n",
    "println(\"Number of equality constraints: l_h=\",l_h)\n",
    "println(\"====================\")\n",
    "\n",
    "k=Int64(2)\n",
    "\n",
    "println(\"Relaxed order: k=\",k)"
   ]
  },
  {
   "cell_type": "code",
   "execution_count": 2,
   "metadata": {
    "scrolled": true
   },
   "outputs": [
    {
     "name": "stdout",
     "output_type": "stream",
     "text": [
      "**Convert moment relaxation to standard SDP:\n",
      "  Size of psd matrix: sk=21\n",
      "  Number of equality trace constraints: m=127\n",
      "  1.408781 seconds (2.55 M allocations: 122.345 MiB, 4.39% gc time)\n",
      "**LMBM solver:\n",
      "---------------\n",
      "| Parameters: |\n",
      "---------------\n",
      "n:       127\n",
      "maxtime: 300000.000000\n",
      "na:      2\n",
      "mcu:     5\n",
      "mc:      7\n",
      "rpar: \n",
      "ipar: \n",
      "-----------\n",
      "| Output: |\n",
      "-----------\n",
      "Termination:     1\n",
      "N. iter.:        36\n",
      "N. func. eval.:  42\n",
      "Final value:     1.419413\n",
      "Execution time:  1.198997\n",
      "  1.594898 seconds (1.99 M allocations: 106.994 MiB, 3.17% gc time)\n",
      "------------------------------------\n",
      "**Numerical result:\n",
      "====================================\n",
      "opt_val=-1.4194125228233996\n",
      "====================================\n",
      "Dimension of the null space of Gram matrix = 1\n",
      "------------------------------------\n",
      "atom 1 = [-0.07205096992802715, 0.06113271179064268, -0.32076886574841734, -0.9388111348483472, 0.07676116290060081]\n",
      "  check gap of lower bound  = 0.19184816835188925\n",
      "  check equality constraint 1 = 0.0009201610029323515\n",
      "  0.483891 seconds (840.45 k allocations: 41.313 MiB)\n",
      "  3.610979 seconds (5.55 M allocations: 277.894 MiB, 3.11% gc time)\n"
     ]
    },
    {
     "data": {
      "text/plain": [
       "(-1.4194125228233996, Array{Float64,1}[])"
      ]
     },
     "execution_count": 2,
     "metadata": {},
     "output_type": "execute_result"
    }
   ],
   "source": [
    "using SpectralPOP\n",
    "\n",
    "\n",
    "opt_val,opt_sol = SpectralPOP.CTP_POP(x,f,h,k,R;method=\"LMBM\",EigAlg=\"Arpack\",tol=1e-5)"
   ]
  },
  {
   "cell_type": "code",
   "execution_count": 3,
   "metadata": {
    "scrolled": true
   },
   "outputs": [
    {
     "name": "stdout",
     "output_type": "stream",
     "text": [
      "**Convert moment relaxation to standard SDP:\n",
      "  Size of psd matrix: sk=21\n",
      "  Number of equality trace constraints: m=127\n",
      "  0.043575 seconds (57.45 k allocations: 3.384 MiB)\n",
      "**SketchyCGAL solver:\n"
     ]
    },
    {
     "name": "stderr",
     "output_type": "stream",
     "text": [
      "WARNING: replacing module SpectralPOP.\n"
     ]
    },
    {
     "name": "stdout",
     "output_type": "stream",
     "text": [
      "- SketchyCGAL SDP Solver - Beta.V.0.0\n",
      "--------------------------\n",
      " iter=1 \n",
      " stopObj=3.949705797173349 \n",
      " stopFeas=1.0 \n",
      " primalObj=-4.626919328525662 \n",
      "--------------------------\n",
      " iter=2 \n",
      " stopObj=11.316508308612974 \n",
      " stopFeas=2.7304297600686773 \n",
      " primalObj=0.7261444582473142 \n",
      "--------------------------\n",
      " iter=4 \n",
      " stopObj=10.642239357641728 \n",
      " stopFeas=1.196748171771404 \n",
      " primalObj=-0.26449241027343534 \n",
      "--------------------------\n",
      " iter=8 \n",
      " stopObj=5.495102674763813 \n",
      " stopFeas=0.7496196535737705 \n",
      " primalObj=-0.12408706436183028 \n",
      "--------------------------\n",
      " iter=16 \n",
      " stopObj=2.4561666348170723 \n",
      " stopFeas=0.2833343671229484 \n",
      " primalObj=-0.350170634958931 \n",
      "--------------------------\n",
      " iter=32 \n",
      " stopObj=1.2427657069565163 \n",
      " stopFeas=0.1493131732383984 \n",
      " primalObj=-0.5438382137514746 \n",
      "--------------------------\n",
      " iter=64 \n",
      " stopObj=0.8421895470458676 \n",
      " stopFeas=0.04729815029759817 \n",
      " primalObj=-0.8909873461461801 \n",
      "--------------------------\n",
      " iter=128 \n",
      " stopObj=0.23013833030245578 \n",
      " stopFeas=0.013168974236167951 \n",
      " primalObj=-1.2150718553999467 \n",
      "--------------------------\n",
      " iter=256 \n",
      " stopObj=0.07280802226144534 \n",
      " stopFeas=0.005943996474324535 \n",
      " primalObj=-1.3475387331215918 \n",
      "--------------------------\n",
      " iter=512 \n",
      " stopObj=0.028872393150806808 \n",
      " stopFeas=0.0029148065068734163 \n",
      " primalObj=-1.3908738177629774 \n",
      "--------------------------\n",
      " iter=1024 \n",
      " stopObj=0.007480278697675313 \n",
      " stopFeas=0.0006986300799087312 \n",
      " primalObj=-1.4119528199435405 \n",
      "--------------------------\n",
      " iter=2048 \n",
      " stopObj=0.002040678983446842 \n",
      " stopFeas=0.00016700222298360226 \n",
      " primalObj=-1.4173730558177586 \n",
      "--------------------------\n",
      " iter=4096 \n",
      " stopObj=0.000510000386636289 \n",
      " stopFeas=4.177017313138791e-5 \n",
      " primalObj=-1.418901419301205 \n",
      "--------------------------\n",
      " iter=8192 \n",
      " stopObj=0.0001283929104078929 \n",
      " stopFeas=1.0503862943705052e-5 \n",
      " primalObj=-1.4192827547444535 \n",
      "* status = stopping criteria met\n",
      "  4.206623 seconds (10.18 M allocations: 3.458 GiB, 11.66% gc time)\n",
      "------------------------------------\n",
      "**Numerical result:\n",
      "====================================\n",
      "opt_val=-1.4193016971915555\n",
      "====================================\n",
      "Dimension of the null space of Gram matrix = 1\n",
      "------------------------------------\n",
      "atom 1 = [-0.8233861764612641, 2.6530518880996348, 1.7272483204585998, -8.695458647061303, -1.1161316250611364]\n",
      "  check gap of lower bound  = 101407.8586410017\n",
      "  check equality constraint 1 = 86.55678676427837\n",
      "  0.001131 seconds (1.19 k allocations: 90.750 KiB)\n",
      "  4.251850 seconds (10.24 M allocations: 3.461 GiB, 11.54% gc time)\n"
     ]
    },
    {
     "data": {
      "text/plain": [
       "(-1.4193016971915555, Array{Float64,1}[])"
      ]
     },
     "execution_count": 3,
     "metadata": {},
     "output_type": "execute_result"
    }
   ],
   "source": [
    "using SpectralPOP\n",
    "\n",
    "\n",
    "opt_val,opt_sol = SpectralPOP.CTP_POP(x,f,h,k,R;method=\"SketchyCGAL\",EigAlg=\"Arpack\",tol=1e-3)"
   ]
  },
  {
   "cell_type": "code",
   "execution_count": 5,
   "metadata": {},
   "outputs": [
    {
     "name": "stdout",
     "output_type": "stream",
     "text": [
      "OPTIMAL\n",
      "opt_val=-1.4194110924355583\n"
     ]
    },
    {
     "name": "stderr",
     "output_type": "stream",
     "text": [
      "WARNING: replacing module SpectralPOP.\n"
     ]
    },
    {
     "name": "stdout",
     "output_type": "stream",
     "text": [
      "Atomic measure on the variables x[1], x[2], x[3], x[4], x[5] with 1 atoms:\n",
      " at [-0.072472189687478, 0.060095687885427365, -0.3207066215944193, -0.9393338392450188, 0.0770419912613347] with weight 0.9999999995806821\n",
      " 14.963058 seconds (26.35 M allocations: 1.310 GiB, 3.91% gc time)\n"
     ]
    },
    {
     "data": {
      "text/plain": [
       "(-1.4194110924355583, [-0.072472189687478, 0.060095687885427365, -0.3207066215944193, -0.9393338392450188, 0.0770419912613347])"
      ]
     },
     "execution_count": 5,
     "metadata": {},
     "output_type": "execute_result"
    }
   ],
   "source": [
    "using SpectralPOP\n",
    "\n",
    "g=Vector{Polynomial{true,Float64}}([])\n",
    "\n",
    "opt_val,opt_sol = SpectralPOP.SumofSquares_POP_WithExtraction(x,f,g,h,k)"
   ]
  },
  {
   "cell_type": "code",
   "execution_count": null,
   "metadata": {},
   "outputs": [],
   "source": []
  }
 ],
 "metadata": {
  "kernelspec": {
   "display_name": "Julia 1.3.0",
   "language": "julia",
   "name": "julia-1.3"
  },
  "language_info": {
   "file_extension": ".jl",
   "mimetype": "application/julia",
   "name": "julia",
   "version": "1.3.0"
  }
 },
 "nbformat": 4,
 "nbformat_minor": 2
}
