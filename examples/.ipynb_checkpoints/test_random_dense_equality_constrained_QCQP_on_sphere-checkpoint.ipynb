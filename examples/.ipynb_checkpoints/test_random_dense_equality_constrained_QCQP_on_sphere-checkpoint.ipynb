{
 "cells": [
  {
   "cell_type": "code",
   "execution_count": null,
   "metadata": {},
   "outputs": [
    {
     "name": "stdout",
     "output_type": "stream",
     "text": [
      "***Problem setting***\n",
      "Number of variable: n=500\n",
      "====================\n",
      "Array"
     ]
    }
   ],
   "source": [
    "using DynamicPolynomials\n",
    "\n",
    "println(\"***Problem setting***\")\n",
    "\n",
    "n=500\n",
    "\n",
    "l=ceil(Int32, n/4)\n",
    "\n",
    "println(\"Number of variable: n=\",n)\n",
    "println(\"====================\")\n",
    "\n",
    "@polyvar x[1:n]# variables\n",
    "\n",
    "function generate_random_poly(v::Vector{Monomial{true}})\n",
    "    c=2*rand(Float64,length(v)).-1\n",
    "    return c'*v\n",
    "end\n",
    "\n",
    "R=1.0\n",
    "\n",
    "function generate_objective_and_constraints(x)\n",
    "    # random quadratic objective function f\n",
    "    v=reverse(monomials(x,0:2))\n",
    "    f=generate_random_poly(v)\n",
    "\n",
    "\n",
    "    # unit sphere constraint\n",
    "    h=[R-sum(x.^2)] #type of coefficients of each polynomial must be float\n",
    "\n",
    "    # random quadratic equality constraints\n",
    "    randx=2*rand(n).-1# create a feasible solution\n",
    "    randx=randx./sqrt(sum(randx.^2))\n",
    "\n",
    "\n",
    "    for j in 1:l\n",
    "        push!(h,generate_random_poly(v[2:end]))\n",
    "        h[end]-=h[end](x => randx) #make constraints feasible\n",
    "    end\n",
    "    l_h=length(h)\n",
    "\n",
    "    println(\"Number of equality constraints: l_h=\",l_h)\n",
    "    println(\"====================\")\n",
    "    return f,h\n",
    "end\n",
    "\n",
    "\n",
    "f,h=generate_objective_and_constraints(x)\n",
    "\n",
    "k=Int64(1)\n",
    "\n",
    "println(\"Relaxed order: k=\",k)"
   ]
  },
  {
   "cell_type": "code",
   "execution_count": 19,
   "metadata": {},
   "outputs": [
    {
     "name": "stdout",
     "output_type": "stream",
     "text": [
      "**Convert moment relaxation to standard SDP:\n",
      "  Size of psd matrix: sk=51\n",
      "  Number of equality trace constraints: m=15\n",
      "  0.251784 seconds (378.22 k allocations: 137.412 MiB, 22.43% gc time)\n",
      "**LMBM solver:\n",
      "---------------\n",
      "| Parameters: |\n",
      "---------------\n",
      "n:       15\n",
      "maxtime: 300000.000000\n",
      "na:      2\n",
      "mcu:     5\n",
      "mc:      7\n",
      "rpar: \n",
      "ipar: \n",
      "-----------\n",
      "| Output: |\n",
      "-----------\n",
      "Termination:     2\n",
      "N. iter.:        91\n",
      "N. func. eval.:  145\n",
      "Final value:     4.964058\n",
      "Execution time:  0.203613\n",
      "  0.365741 seconds (322.10 k allocations: 29.454 MiB)\n",
      "------------------------------------\n",
      "**Numerical result:\n",
      "====================================\n",
      "opt_val=-4.9640584752905\n",
      "====================================\n",
      "Dimension of the null space of Gram matrix = 2\n",
      "  0.002395 seconds (674 allocations: 298.938 KiB)\n",
      "  0.620606 seconds (702.16 k allocations: 167.189 MiB, 9.10% gc time)\n"
     ]
    },
    {
     "data": {
      "text/plain": [
       "(-4.9640584752905, Array{Float64,1}[])"
      ]
     },
     "execution_count": 19,
     "metadata": {},
     "output_type": "execute_result"
    }
   ],
   "source": [
    " opt_val,opt_sol = SpectralPOP.CTP_POP(x,f,h,k,R;method=\"LMBM\",EigAlg=\"Arpack\",tol=1e-5) #Limited memory bundle method"
   ]
  },
  {
   "cell_type": "code",
   "execution_count": 20,
   "metadata": {
    "scrolled": true
   },
   "outputs": [
    {
     "name": "stdout",
     "output_type": "stream",
     "text": [
      "**Convert moment relaxation to standard SDP:\n",
      "  Size of psd matrix: sk=51\n",
      "  Number of equality trace constraints: m=15\n",
      "  0.194021 seconds (328.01 k allocations: 134.909 MiB)\n",
      "**SketchyCGAL solver:\n",
      "- SketchyCGAL SDP Solver - Beta.V.0.0\n",
      "--------------------------\n",
      " iter=1 \n",
      " stopObj=6.343929133014656 \n",
      " stopFeas=1.0 \n",
      " primalObj=-6.988826082355402 \n",
      "--------------------------\n",
      " iter=2 \n",
      " stopObj=27.698916349417576 \n",
      " stopFeas=2.8041158458558577 \n",
      " primalObj=-3.1977353635946364 \n",
      "--------------------------\n",
      " iter=4 \n",
      " stopObj=38.364360379618674 \n",
      " stopFeas=2.713542871675862 \n",
      " primalObj=-1.6059951455734798 \n",
      "--------------------------\n",
      " iter=8 \n",
      " stopObj=37.46606605618048 \n",
      " stopFeas=1.2347147130025429 \n",
      " primalObj=-1.2053249892200355 \n",
      "--------------------------\n",
      " iter=16 \n",
      " stopObj=23.671415541094557 \n",
      " stopFeas=0.5684040972264564 \n",
      " primalObj=-1.5834788305928473 \n",
      "--------------------------\n",
      " iter=32 \n",
      " stopObj=12.234804519275489 \n",
      " stopFeas=0.31047074696339466 \n",
      " primalObj=-2.2289840832750847 \n",
      "--------------------------\n",
      " iter=64 \n",
      " stopObj=8.298314884058241 \n",
      " stopFeas=0.12341189742492567 \n",
      " primalObj=-3.02879941423251 \n",
      "--------------------------\n",
      " iter=128 \n",
      " stopObj=4.859288370172408 \n",
      " stopFeas=0.055069633045089474 \n",
      " primalObj=-3.7516633176057916 \n",
      "--------------------------\n",
      " iter=256 \n",
      " stopObj=1.5241791078309186 \n",
      " stopFeas=0.020868891711263837 \n",
      " primalObj=-4.311645570147117 \n",
      "--------------------------\n",
      " iter=512 \n",
      " stopObj=1.7705045276854445 \n",
      " stopFeas=0.01604118580798459 \n",
      " primalObj=-4.627815034944831 \n",
      "--------------------------\n",
      " iter=1024 \n",
      " stopObj=0.2576324934367271 \n",
      " stopFeas=0.0016884059723941258 \n",
      " primalObj=-4.79094599586678 \n",
      "--------------------------\n",
      " iter=2048 \n",
      " stopObj=0.13503385199269147 \n",
      " stopFeas=0.0011093513272067963 \n",
      " primalObj=-4.8731388380108775 \n",
      "--------------------------\n",
      " iter=4096 \n",
      " stopObj=0.06665030784974846 \n",
      " stopFeas=0.0005187068293867817 \n",
      " primalObj=-4.9193576437970385 \n",
      "--------------------------\n",
      " iter=8192 \n",
      " stopObj=0.1513274571376364 \n",
      " stopFeas=0.0006078136545660278 \n",
      " primalObj=-4.94138091753437 \n"
     ]
    },
    {
     "ename": "InterruptException",
     "evalue": "InterruptException:",
     "output_type": "error",
     "traceback": [
      "InterruptException:",
      "",
      "Stacktrace:",
      " [1] Array at ./boot.jl:406 [inlined]",
      " [2] Array at ./boot.jl:414 [inlined]",
      " [3] zeros at ./array.jl:461 [inlined]",
      " [4] zeros at ./array.jl:457 [inlined]",
      " [5] #AdjOper#36(::Bool, ::typeof(Main.SpectralPOP.AdjOper), ::Array{Float64,1}, ::SparseArrays.SparseMatrixCSC{UInt64,Int64}, ::Int64) at /home/hoanganh/Desktop/math-topics/SpectralPOP/codes/SpectralPOP/src/POP_CTP.jl:176",
      " [6] #AdjOper at ./none:0 [inlined]",
      " [7] (::Main.SpectralPOP.var\"#Primitive2#34\"{Bool,Int64,SparseArrays.SparseMatrixCSC{Float64,Int64},SparseArrays.SparseMatrixCSC{UInt64,Int64}})(::Array{Float64,1}, ::Array{Float64,1}) at /home/hoanganh/Desktop/math-topics/SpectralPOP/codes/SpectralPOP/src/POP_CTP.jl:147",
      " [8] (::Main.SpectralPOP.var\"#13#15\"{Main.SpectralPOP.var\"#Primitive1#33\"{Array{Float64,2}},Main.SpectralPOP.var\"#Primitive2#34\"{Bool,Int64,SparseArrays.SparseMatrixCSC{Float64,Int64},SparseArrays.SparseMatrixCSC{UInt64,Int64}}})(::Array{Float64,1}) at /home/hoanganh/Desktop/math-topics/SpectralPOP/codes/SpectralPOP/solvers/SketchyCGAL/CGAL.jl:58",
      " [9] #ApproxMinEvecLanczos#16(::String, ::Bool, ::typeof(Main.SpectralPOP.ApproxMinEvecLanczos), ::Main.SpectralPOP.var\"#13#15\"{Main.SpectralPOP.var\"#Primitive1#33\"{Array{Float64,2}},Main.SpectralPOP.var\"#Primitive2#34\"{Bool,Int64,SparseArrays.SparseMatrixCSC{Float64,Int64},SparseArrays.SparseMatrixCSC{UInt64,Int64}}}, ::UInt32, ::UInt64) at /home/hoanganh/Desktop/math-topics/SpectralPOP/codes/SpectralPOP/solvers/SketchyCGAL/CGAL.jl:139",
      " [10] #ApproxMinEvecLanczos at ./none:0 [inlined]",
      " [11] #CGAL#11(::Float64, ::String, ::Bool, ::typeof(Main.SpectralPOP.CGAL), ::UInt32, ::Main.SpectralPOP.var\"#Primitive1#33\"{Array{Float64,2}}, ::Main.SpectralPOP.var\"#Primitive2#34\"{Bool,Int64,SparseArrays.SparseMatrixCSC{Float64,Int64},SparseArrays.SparseMatrixCSC{UInt64,Int64}}, ::Main.SpectralPOP.var\"#Primitive3#35\"{Bool,Int64,SparseArrays.SparseMatrixCSC{Float64,Int64}}, ::Array{Float32,1}, ::Array{Float64,1}, ::UInt16, ::UInt64) at /home/hoanganh/Desktop/math-topics/SpectralPOP/codes/SpectralPOP/solvers/SketchyCGAL/CGAL.jl:58",
      " [12] #CGAL at ./none:0 [inlined]",
      " [13] #SpectralSDP#30(::String, ::String, ::Float64, ::Bool, ::Bool, ::typeof(Main.SpectralPOP.SpectralSDP), ::Int64, ::Int64, ::Array{Float64,1}, ::SparseArrays.SparseMatrixCSC{Float64,Int64}, ::Array{UInt64,1}, ::Array{Float64,1}, ::SparseArrays.SparseMatrixCSC{UInt64,Int64}, ::Float64) at /home/hoanganh/Desktop/math-topics/SpectralPOP/codes/SpectralPOP/src/POP_CTP.jl:158",
      " [14] #SpectralSDP at ./none:0 [inlined]",
      " [15] macro expansion at ./util.jl:155 [inlined]",
      " [16] macro expansion at /home/hoanganh/Desktop/math-topics/SpectralPOP/codes/SpectralPOP/src/POP_CTP.jl:59 [inlined]",
      " [17] macro expansion at ./util.jl:155 [inlined]",
      " [18] #CTP_POP#28(::String, ::String, ::Float64, ::Bool, ::Bool, ::typeof(Main.SpectralPOP.CTP_POP), ::Array{PolyVar{true},1}, ::Polynomial{true,Float64}, ::Array{Polynomial{true,Float64},1}, ::Int64, ::Float64) at /home/hoanganh/Desktop/math-topics/SpectralPOP/codes/SpectralPOP/src/POP_CTP.jl:48",
      " [19] (::Main.SpectralPOP.var\"#kw##CTP_POP\")(::NamedTuple{(:method, :EigAlg, :tol),Tuple{String,String,Float64}}, ::typeof(Main.SpectralPOP.CTP_POP), ::Array{PolyVar{true},1}, ::Polynomial{true,Float64}, ::Array{Polynomial{true,Float64},1}, ::Int64, ::Float64) at ./none:0",
      " [20] top-level scope at In[20]:1"
     ]
    }
   ],
   "source": [
    " opt_val,opt_sol = SpectralPOP.CTP_POP(x,f,h,k,R;method=\"SketchyCGAL\",EigAlg=\"Normal\",tol=1e-3)"
   ]
  },
  {
   "cell_type": "code",
   "execution_count": 21,
   "metadata": {
    "scrolled": true
   },
   "outputs": [
    {
     "name": "stdout",
     "output_type": "stream",
     "text": [
      "**SumOfSquares+Mosek:\n",
      "OPTIMAL\n",
      "opt_val=-4.964058475281366\n",
      "  0.768803 seconds (844.59 k allocations: 106.114 MiB)\n"
     ]
    },
    {
     "name": "stderr",
     "output_type": "stream",
     "text": [
      "WARNING: replacing module SpectralPOP.\n"
     ]
    },
    {
     "data": {
      "text/plain": [
       "-4.964058475281366"
      ]
     },
     "execution_count": 21,
     "metadata": {},
     "output_type": "execute_result"
    }
   ],
   "source": [
    "include(\"../src/SpectralPOP.jl\")\n",
    "using .SpectralPOP\n",
    "\n",
    "g=Vector{Polynomial{true,Float64}}([])\n",
    "opt_val = SpectralPOP.SumofSquares_POP(x,f,g,h,k) # SumOfSquares.jl + Mosek"
   ]
  },
  {
   "cell_type": "code",
   "execution_count": 10,
   "metadata": {
    "scrolled": true
   },
   "outputs": [
    {
     "name": "stdout",
     "output_type": "stream",
     "text": [
      "**SumOfSquares+Mosek:\n"
     ]
    },
    {
     "name": "stderr",
     "output_type": "stream",
     "text": [
      "WARNING: replacing module SpectralPOP.\n"
     ]
    },
    {
     "name": "stdout",
     "output_type": "stream",
     "text": [
      "OPTIMAL\n",
      "opt_val=-0.5497467346478989\n",
      "Atomic measure on the variables x[1], x[2], x[3], x[4], x[5] with 1 atoms:\n",
      " at [0.19360119327065897, 0.24427746966832073, -0.3579499621136077, -0.7922733306585235, 0.38343432883984857] with weight 1.0000000001138907\n",
      " 15.614992 seconds (25.83 M allocations: 1.278 GiB, 4.64% gc time)\n"
     ]
    },
    {
     "data": {
      "text/plain": [
       "(-0.5497467346478989, [0.19360119327065897, 0.24427746966832073, -0.3579499621136077, -0.7922733306585235, 0.38343432883984857])"
      ]
     },
     "execution_count": 10,
     "metadata": {},
     "output_type": "execute_result"
    }
   ],
   "source": [
    "include(\"../src/SpectralPOP.jl\")\n",
    "using .SpectralPOP\n",
    "\n",
    "g=Vector{Polynomial{true,Float64}}([])\n",
    "\n",
    "opt_val,opt_sol = SpectralPOP.SumofSquares_POP_WithExtraction(x,f,g,h,k) # SumOfSquares + Mosek"
   ]
  },
  {
   "cell_type": "code",
   "execution_count": null,
   "metadata": {},
   "outputs": [],
   "source": []
  }
 ],
 "metadata": {
  "kernelspec": {
   "display_name": "Julia 1.3.0",
   "language": "julia",
   "name": "julia-1.3"
  },
  "language_info": {
   "file_extension": ".jl",
   "mimetype": "application/julia",
   "name": "julia",
   "version": "1.3.0"
  }
 },
 "nbformat": 4,
 "nbformat_minor": 2
}
